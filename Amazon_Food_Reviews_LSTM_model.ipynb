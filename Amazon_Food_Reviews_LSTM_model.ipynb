{
  "nbformat": 4,
  "nbformat_minor": 0,
  "metadata": {
    "colab": {
      "name": "Amazon_Food_Reviews_LSTM_model.ipynb",
      "version": "0.3.2",
      "provenance": [],
      "collapsed_sections": []
    },
    "kernelspec": {
      "display_name": "Python 3",
      "language": "python",
      "name": "python3"
    },
    "accelerator": "GPU"
  },
  "cells": [
    {
      "metadata": {
        "colab_type": "text",
        "id": "GDHut9-qj2Dg"
      },
      "cell_type": "markdown",
      "source": [
        "# OBJECTIVE :- Built LSTM model on Amazon Fine Food Reviews"
      ]
    },
    {
      "metadata": {
        "colab_type": "code",
        "id": "Tn0QoZ0RjBa7",
        "outputId": "5c210b87-1e8b-4d33-e4a5-16234b9939ac",
        "colab": {
          "base_uri": "https://localhost:8080/",
          "height": 360
        }
      },
      "cell_type": "code",
      "source": [
        "# Installing package\n",
        "!pip install gensim\n",
        "\n",
        "# Importing libraries\n",
        "import warnings\n",
        "warnings.filterwarnings(\"ignore\")\n",
        "\n",
        "import pandas as pd\n",
        "import numpy as np\n",
        "import nltk\n",
        "import string\n",
        "import matplotlib.pyplot as plt\n",
        "%matplotlib inline\n",
        "import seaborn as sns\n",
        "\n",
        "from sklearn.feature_extraction.text import CountVectorizer\n",
        "from nltk.stem.porter import PorterStemmer\n",
        "import re\n",
        "import string\n",
        "from nltk.corpus import stopwords\n",
        "from nltk.stem import PorterStemmer\n",
        "from nltk.stem.wordnet import WordNetLemmatizer\n",
        "\n",
        "from gensim.models import Word2Vec\n",
        "from gensim.models import KeyedVectors\n",
        "import pickle"
      ],
      "execution_count": 1,
      "outputs": [
        {
          "output_type": "stream",
          "text": [
            "Requirement already satisfied: gensim in /usr/local/lib/python3.6/dist-packages (3.6.0)\n",
            "Requirement already satisfied: six>=1.5.0 in /usr/local/lib/python3.6/dist-packages (from gensim) (1.11.0)\n",
            "Requirement already satisfied: scipy>=0.18.1 in /usr/local/lib/python3.6/dist-packages (from gensim) (1.2.1)\n",
            "Requirement already satisfied: numpy>=1.11.3 in /usr/local/lib/python3.6/dist-packages (from gensim) (1.16.2)\n",
            "Requirement already satisfied: smart-open>=1.2.1 in /usr/local/lib/python3.6/dist-packages (from gensim) (1.8.1)\n",
            "Requirement already satisfied: boto>=2.32 in /usr/local/lib/python3.6/dist-packages (from smart-open>=1.2.1->gensim) (2.49.0)\n",
            "Requirement already satisfied: bz2file in /usr/local/lib/python3.6/dist-packages (from smart-open>=1.2.1->gensim) (0.98)\n",
            "Requirement already satisfied: requests in /usr/local/lib/python3.6/dist-packages (from smart-open>=1.2.1->gensim) (2.18.4)\n",
            "Requirement already satisfied: boto3 in /usr/local/lib/python3.6/dist-packages (from smart-open>=1.2.1->gensim) (1.9.130)\n",
            "Requirement already satisfied: certifi>=2017.4.17 in /usr/local/lib/python3.6/dist-packages (from requests->smart-open>=1.2.1->gensim) (2019.3.9)\n",
            "Requirement already satisfied: chardet<3.1.0,>=3.0.2 in /usr/local/lib/python3.6/dist-packages (from requests->smart-open>=1.2.1->gensim) (3.0.4)\n",
            "Requirement already satisfied: idna<2.7,>=2.5 in /usr/local/lib/python3.6/dist-packages (from requests->smart-open>=1.2.1->gensim) (2.6)\n",
            "Requirement already satisfied: urllib3<1.23,>=1.21.1 in /usr/local/lib/python3.6/dist-packages (from requests->smart-open>=1.2.1->gensim) (1.22)\n",
            "Requirement already satisfied: botocore<1.13.0,>=1.12.130 in /usr/local/lib/python3.6/dist-packages (from boto3->smart-open>=1.2.1->gensim) (1.12.130)\n",
            "Requirement already satisfied: s3transfer<0.3.0,>=0.2.0 in /usr/local/lib/python3.6/dist-packages (from boto3->smart-open>=1.2.1->gensim) (0.2.0)\n",
            "Requirement already satisfied: jmespath<1.0.0,>=0.7.1 in /usr/local/lib/python3.6/dist-packages (from boto3->smart-open>=1.2.1->gensim) (0.9.4)\n",
            "Requirement already satisfied: docutils>=0.10 in /usr/local/lib/python3.6/dist-packages (from botocore<1.13.0,>=1.12.130->boto3->smart-open>=1.2.1->gensim) (0.14)\n",
            "Requirement already satisfied: python-dateutil<3.0.0,>=2.1; python_version >= \"2.7\" in /usr/local/lib/python3.6/dist-packages (from botocore<1.13.0,>=1.12.130->boto3->smart-open>=1.2.1->gensim) (2.5.3)\n"
          ],
          "name": "stdout"
        },
        {
          "output_type": "stream",
          "text": [
            "paramiko missing, opening SSH/SCP/SFTP paths will be disabled.  `pip install paramiko` to suppress\n"
          ],
          "name": "stderr"
        }
      ]
    },
    {
      "metadata": {
        "colab_type": "text",
        "id": "BvrN9fYrkubx"
      },
      "cell_type": "markdown",
      "source": [
        "## Loading Data from Reviews.CSV file in Google Drive"
      ]
    },
    {
      "metadata": {
        "colab_type": "code",
        "id": "n19Yb-bMkw8G",
        "outputId": "eab1359c-079e-42e9-a6de-6f68b4cf69bc",
        "colab": {
          "base_uri": "https://localhost:8080/",
          "height": 51
        }
      },
      "cell_type": "code",
      "source": [
        "# Install the PyDrive wrapper & import libraries.\n",
        "!pip install -U -q PyDrive\n",
        "from pydrive.auth import GoogleAuth\n",
        "from pydrive.drive import GoogleDrive\n",
        "from google.colab import auth\n",
        "from oauth2client.client import GoogleCredentials"
      ],
      "execution_count": 2,
      "outputs": [
        {
          "output_type": "stream",
          "text": [
            "\u001b[?25l\r\u001b[K    1% |▎                               | 10kB 24.3MB/s eta 0:00:01\r\u001b[K    2% |▋                               | 20kB 30.6MB/s eta 0:00:01\r\u001b[K    3% |█                               | 30kB 35.1MB/s eta 0:00:01\r\u001b[K    4% |█▎                              | 40kB 38.8MB/s eta 0:00:01\r\u001b[K    5% |█▋                              | 51kB 42.7MB/s eta 0:00:01\r\u001b[K    6% |██                              | 61kB 45.6MB/s eta 0:00:01\r\u001b[K    7% |██▎                             | 71kB 38.7MB/s eta 0:00:01\r\u001b[K    8% |██▋                             | 81kB 39.6MB/s eta 0:00:01\r\u001b[K    9% |███                             | 92kB 42.0MB/s eta 0:00:01\r\u001b[K    10% |███▎                            | 102kB 40.9MB/s eta 0:00:01\r\u001b[K    11% |███▋                            | 112kB 44.6MB/s eta 0:00:01\r\u001b[K    12% |████                            | 122kB 46.2MB/s eta 0:00:01\r\u001b[K    13% |████▎                           | 133kB 41.7MB/s eta 0:00:01\r\u001b[K    14% |████▋                           | 143kB 36.5MB/s eta 0:00:01\r\u001b[K    15% |█████                           | 153kB 36.2MB/s eta 0:00:01\r\u001b[K    16% |█████▎                          | 163kB 36.3MB/s eta 0:00:01\r\u001b[K    17% |█████▋                          | 174kB 40.1MB/s eta 0:00:01\r\u001b[K    18% |██████                          | 184kB 41.4MB/s eta 0:00:01\r\u001b[K    19% |██████▎                         | 194kB 41.4MB/s eta 0:00:01\r\u001b[K    20% |██████▋                         | 204kB 39.6MB/s eta 0:00:01\r\u001b[K    21% |███████                         | 215kB 40.4MB/s eta 0:00:01\r\u001b[K    22% |███████▎                        | 225kB 41.0MB/s eta 0:00:01\r\u001b[K    23% |███████▋                        | 235kB 44.6MB/s eta 0:00:01\r\u001b[K    24% |████████                        | 245kB 46.3MB/s eta 0:00:01\r\u001b[K    25% |████████▎                       | 256kB 47.0MB/s eta 0:00:01\r\u001b[K    26% |████████▋                       | 266kB 40.4MB/s eta 0:00:01\r\u001b[K    27% |█████████                       | 276kB 41.6MB/s eta 0:00:01\r\u001b[K    29% |█████████▎                      | 286kB 41.6MB/s eta 0:00:01\r\u001b[K    30% |█████████▋                      | 296kB 41.6MB/s eta 0:00:01\r\u001b[K    31% |██████████                      | 307kB 47.1MB/s eta 0:00:01\r\u001b[K    32% |██████████▎                     | 317kB 47.2MB/s eta 0:00:01\r\u001b[K    33% |██████████▋                     | 327kB 41.6MB/s eta 0:00:01\r\u001b[K    34% |███████████                     | 337kB 43.9MB/s eta 0:00:01\r\u001b[K    35% |███████████▎                    | 348kB 45.6MB/s eta 0:00:01\r\u001b[K    36% |███████████▋                    | 358kB 45.0MB/s eta 0:00:01\r\u001b[K    37% |████████████                    | 368kB 53.0MB/s eta 0:00:01\r\u001b[K    38% |████████████▎                   | 378kB 49.2MB/s eta 0:00:01\r\u001b[K    39% |████████████▋                   | 389kB 49.6MB/s eta 0:00:01\r\u001b[K    40% |█████████████                   | 399kB 43.1MB/s eta 0:00:01\r\u001b[K    41% |█████████████▎                  | 409kB 43.0MB/s eta 0:00:01\r\u001b[K    42% |█████████████▋                  | 419kB 43.8MB/s eta 0:00:01\r\u001b[K    43% |██████████████                  | 430kB 50.3MB/s eta 0:00:01\r\u001b[K    44% |██████████████▎                 | 440kB 50.5MB/s eta 0:00:01\r\u001b[K    45% |██████████████▋                 | 450kB 48.7MB/s eta 0:00:01\r\u001b[K    46% |███████████████                 | 460kB 49.1MB/s eta 0:00:01\r\u001b[K    47% |███████████████▎                | 471kB 50.3MB/s eta 0:00:01\r\u001b[K    48% |███████████████▋                | 481kB 55.0MB/s eta 0:00:01\r\u001b[K    49% |████████████████                | 491kB 51.2MB/s eta 0:00:01\r\u001b[K    50% |████████████████▎               | 501kB 61.4MB/s eta 0:00:01\r\u001b[K    51% |████████████████▋               | 512kB 56.7MB/s eta 0:00:01\r\u001b[K    52% |█████████████████               | 522kB 56.3MB/s eta 0:00:01\r\u001b[K    53% |█████████████████▎              | 532kB 55.9MB/s eta 0:00:01\r\u001b[K    54% |█████████████████▋              | 542kB 54.4MB/s eta 0:00:01\r\u001b[K    55% |██████████████████              | 552kB 66.5MB/s eta 0:00:01\r\u001b[K    57% |██████████████████▎             | 563kB 52.3MB/s eta 0:00:01\r\u001b[K    58% |██████████████████▋             | 573kB 51.6MB/s eta 0:00:01\r\u001b[K    59% |███████████████████             | 583kB 52.2MB/s eta 0:00:01\r\u001b[K    60% |███████████████████▎            | 593kB 55.9MB/s eta 0:00:01\r\u001b[K    61% |███████████████████▋            | 604kB 55.9MB/s eta 0:00:01\r\u001b[K    62% |████████████████████            | 614kB 61.5MB/s eta 0:00:01\r\u001b[K    63% |████████████████████▎           | 624kB 56.0MB/s eta 0:00:01\r\u001b[K    64% |████████████████████▋           | 634kB 56.9MB/s eta 0:00:01\r\u001b[K    65% |█████████████████████           | 645kB 55.8MB/s eta 0:00:01\r\u001b[K    66% |█████████████████████▎          | 655kB 54.4MB/s eta 0:00:01\r\u001b[K    67% |█████████████████████▋          | 665kB 52.9MB/s eta 0:00:01\r\u001b[K    68% |██████████████████████          | 675kB 52.0MB/s eta 0:00:01\r\u001b[K    69% |██████████████████████▎         | 686kB 52.0MB/s eta 0:00:01\r\u001b[K    70% |██████████████████████▋         | 696kB 52.3MB/s eta 0:00:01\r\u001b[K    71% |███████████████████████         | 706kB 52.0MB/s eta 0:00:01\r\u001b[K    72% |███████████████████████▎        | 716kB 52.3MB/s eta 0:00:01\r\u001b[K    73% |███████████████████████▋        | 727kB 57.4MB/s eta 0:00:01\r\u001b[K    74% |████████████████████████        | 737kB 52.9MB/s eta 0:00:01\r\u001b[K    75% |████████████████████████▎       | 747kB 55.2MB/s eta 0:00:01\r\u001b[K    76% |████████████████████████▋       | 757kB 54.7MB/s eta 0:00:01\r\u001b[K    77% |████████████████████████▉       | 768kB 74.7MB/s eta 0:00:01\r\u001b[K    78% |█████████████████████████▏      | 778kB 77.2MB/s eta 0:00:01\r\u001b[K    79% |█████████████████████████▌      | 788kB 75.7MB/s eta 0:00:01\r\u001b[K    80% |█████████████████████████▉      | 798kB 76.3MB/s eta 0:00:01\r\u001b[K    81% |██████████████████████████▏     | 808kB 74.6MB/s eta 0:00:01\r\u001b[K    82% |██████████████████████████▌     | 819kB 71.2MB/s eta 0:00:01\r\u001b[K    83% |██████████████████████████▉     | 829kB 71.0MB/s eta 0:00:01\r\u001b[K    85% |███████████████████████████▏    | 839kB 77.9MB/s eta 0:00:01\r\u001b[K    86% |███████████████████████████▌    | 849kB 77.7MB/s eta 0:00:01\r\u001b[K    87% |███████████████████████████▉    | 860kB 70.3MB/s eta 0:00:01\r\u001b[K    88% |████████████████████████████▏   | 870kB 68.1MB/s eta 0:00:01\r\u001b[K    89% |████████████████████████████▌   | 880kB 68.3MB/s eta 0:00:01\r\u001b[K    90% |████████████████████████████▉   | 890kB 70.3MB/s eta 0:00:01\r\u001b[K    91% |█████████████████████████████▏  | 901kB 69.9MB/s eta 0:00:01\r\u001b[K    92% |█████████████████████████████▌  | 911kB 72.0MB/s eta 0:00:01\r\u001b[K    93% |█████████████████████████████▉  | 921kB 75.3MB/s eta 0:00:01\r\u001b[K    94% |██████████████████████████████▏ | 931kB 76.0MB/s eta 0:00:01\r\u001b[K    95% |██████████████████████████████▌ | 942kB 78.1MB/s eta 0:00:01\r\u001b[K    96% |██████████████████████████████▉ | 952kB 77.8MB/s eta 0:00:01\r\u001b[K    97% |███████████████████████████████▏| 962kB 91.2MB/s eta 0:00:01\r\u001b[K    98% |███████████████████████████████▌| 972kB 94.5MB/s eta 0:00:01\r\u001b[K    99% |███████████████████████████████▉| 983kB 95.2MB/s eta 0:00:01\r\u001b[K    100% |████████████████████████████████| 993kB 25.1MB/s \n",
            "\u001b[?25h  Building wheel for PyDrive (setup.py) ... \u001b[?25ldone\n",
            "\u001b[?25h"
          ],
          "name": "stdout"
        }
      ]
    },
    {
      "metadata": {
        "colab_type": "code",
        "id": "mh50KKUU4-M_",
        "colab": {}
      },
      "cell_type": "code",
      "source": [
        "# Authenticate and create the PyDrive client.\n",
        "auth.authenticate_user()\n",
        "gauth = GoogleAuth()\n",
        "gauth.credentials = GoogleCredentials.get_application_default()\n",
        "drive = GoogleDrive(gauth)"
      ],
      "execution_count": 0,
      "outputs": []
    },
    {
      "metadata": {
        "colab_type": "code",
        "id": "M6ED7jmg5J8k",
        "colab": {}
      },
      "cell_type": "code",
      "source": [
        "# Downloading a file based on its file ID\n",
        "#file_id = 'REPLACE_WITH_YOUR_FILE_ID'\n",
        "#downloaded = drive.CreateFile({'id': file_id})\n",
        "downloaded = drive.CreateFile({'id':'1dTt4BADLZcTEBxRX5lMjAgwYosP5iepz'}) \n",
        "downloaded.GetContentFile('Reviews.CSV')\n",
        "\n",
        "# Getting data into a dataframe\n",
        "df = pd.read_csv('Reviews.CSV')"
      ],
      "execution_count": 0,
      "outputs": []
    },
    {
      "metadata": {
        "colab_type": "code",
        "id": "YTTyAha-50az",
        "outputId": "e6b67481-30f0-4366-9adc-208358968abb",
        "colab": {
          "base_uri": "https://localhost:8080/",
          "height": 289
        }
      },
      "cell_type": "code",
      "source": [
        "df.head()"
      ],
      "execution_count": 6,
      "outputs": [
        {
          "output_type": "execute_result",
          "data": {
            "text/html": [
              "<div>\n",
              "<style scoped>\n",
              "    .dataframe tbody tr th:only-of-type {\n",
              "        vertical-align: middle;\n",
              "    }\n",
              "\n",
              "    .dataframe tbody tr th {\n",
              "        vertical-align: top;\n",
              "    }\n",
              "\n",
              "    .dataframe thead th {\n",
              "        text-align: right;\n",
              "    }\n",
              "</style>\n",
              "<table border=\"1\" class=\"dataframe\">\n",
              "  <thead>\n",
              "    <tr style=\"text-align: right;\">\n",
              "      <th></th>\n",
              "      <th>Id</th>\n",
              "      <th>ProductId</th>\n",
              "      <th>UserId</th>\n",
              "      <th>ProfileName</th>\n",
              "      <th>HelpfulnessNumerator</th>\n",
              "      <th>HelpfulnessDenominator</th>\n",
              "      <th>Score</th>\n",
              "      <th>Time</th>\n",
              "      <th>Summary</th>\n",
              "      <th>Text</th>\n",
              "    </tr>\n",
              "  </thead>\n",
              "  <tbody>\n",
              "    <tr>\n",
              "      <th>0</th>\n",
              "      <td>1</td>\n",
              "      <td>B001E4KFG0</td>\n",
              "      <td>A3SGXH7AUHU8GW</td>\n",
              "      <td>delmartian</td>\n",
              "      <td>1</td>\n",
              "      <td>1</td>\n",
              "      <td>5</td>\n",
              "      <td>1303862400</td>\n",
              "      <td>Good Quality Dog Food</td>\n",
              "      <td>I have bought several of the Vitality canned d...</td>\n",
              "    </tr>\n",
              "    <tr>\n",
              "      <th>1</th>\n",
              "      <td>2</td>\n",
              "      <td>B00813GRG4</td>\n",
              "      <td>A1D87F6ZCVE5NK</td>\n",
              "      <td>dll pa</td>\n",
              "      <td>0</td>\n",
              "      <td>0</td>\n",
              "      <td>1</td>\n",
              "      <td>1346976000</td>\n",
              "      <td>Not as Advertised</td>\n",
              "      <td>Product arrived labeled as Jumbo Salted Peanut...</td>\n",
              "    </tr>\n",
              "    <tr>\n",
              "      <th>2</th>\n",
              "      <td>3</td>\n",
              "      <td>B000LQOCH0</td>\n",
              "      <td>ABXLMWJIXXAIN</td>\n",
              "      <td>Natalia Corres \"Natalia Corres\"</td>\n",
              "      <td>1</td>\n",
              "      <td>1</td>\n",
              "      <td>4</td>\n",
              "      <td>1219017600</td>\n",
              "      <td>\"Delight\" says it all</td>\n",
              "      <td>This is a confection that has been around a fe...</td>\n",
              "    </tr>\n",
              "    <tr>\n",
              "      <th>3</th>\n",
              "      <td>4</td>\n",
              "      <td>B000UA0QIQ</td>\n",
              "      <td>A395BORC6FGVXV</td>\n",
              "      <td>Karl</td>\n",
              "      <td>3</td>\n",
              "      <td>3</td>\n",
              "      <td>2</td>\n",
              "      <td>1307923200</td>\n",
              "      <td>Cough Medicine</td>\n",
              "      <td>If you are looking for the secret ingredient i...</td>\n",
              "    </tr>\n",
              "    <tr>\n",
              "      <th>4</th>\n",
              "      <td>5</td>\n",
              "      <td>B006K2ZZ7K</td>\n",
              "      <td>A1UQRSCLF8GW1T</td>\n",
              "      <td>Michael D. Bigham \"M. Wassir\"</td>\n",
              "      <td>0</td>\n",
              "      <td>0</td>\n",
              "      <td>5</td>\n",
              "      <td>1350777600</td>\n",
              "      <td>Great taffy</td>\n",
              "      <td>Great taffy at a great price.  There was a wid...</td>\n",
              "    </tr>\n",
              "  </tbody>\n",
              "</table>\n",
              "</div>"
            ],
            "text/plain": [
              "   Id   ProductId          UserId                      ProfileName  \\\n",
              "0   1  B001E4KFG0  A3SGXH7AUHU8GW                       delmartian   \n",
              "1   2  B00813GRG4  A1D87F6ZCVE5NK                           dll pa   \n",
              "2   3  B000LQOCH0   ABXLMWJIXXAIN  Natalia Corres \"Natalia Corres\"   \n",
              "3   4  B000UA0QIQ  A395BORC6FGVXV                             Karl   \n",
              "4   5  B006K2ZZ7K  A1UQRSCLF8GW1T    Michael D. Bigham \"M. Wassir\"   \n",
              "\n",
              "   HelpfulnessNumerator  HelpfulnessDenominator  Score        Time  \\\n",
              "0                     1                       1      5  1303862400   \n",
              "1                     0                       0      1  1346976000   \n",
              "2                     1                       1      4  1219017600   \n",
              "3                     3                       3      2  1307923200   \n",
              "4                     0                       0      5  1350777600   \n",
              "\n",
              "                 Summary                                               Text  \n",
              "0  Good Quality Dog Food  I have bought several of the Vitality canned d...  \n",
              "1      Not as Advertised  Product arrived labeled as Jumbo Salted Peanut...  \n",
              "2  \"Delight\" says it all  This is a confection that has been around a fe...  \n",
              "3         Cough Medicine  If you are looking for the secret ingredient i...  \n",
              "4            Great taffy  Great taffy at a great price.  There was a wid...  "
            ]
          },
          "metadata": {
            "tags": []
          },
          "execution_count": 6
        }
      ]
    },
    {
      "metadata": {
        "colab_type": "code",
        "id": "VuiBgg0l597S",
        "outputId": "7101add5-52e4-4498-a090-409abaa40214",
        "colab": {
          "base_uri": "https://localhost:8080/",
          "height": 306
        }
      },
      "cell_type": "code",
      "source": [
        "# Eliminating neutral reviews i.e. those reviews with Score = 3\n",
        "filtered_data = df[df['Score'] != 3]\n",
        "\n",
        "# Converting Score variables to binary class variable (1-positive review and 0-negative review)\n",
        "# Give reviews with Score>3 a positive rating (1) , and reviews with a score<3 a negative rating (0).\n",
        "def polarity(x):\n",
        "    if x < 3:\n",
        "        return 0\n",
        "    return 1\n",
        "\n",
        "# Applying polarity function on Score column of filtered_data\n",
        "filtered_data['Score'] = filtered_data['Score'].map(polarity)\n",
        "\n",
        "print(filtered_data.shape)\n",
        "filtered_data.head()"
      ],
      "execution_count": 7,
      "outputs": [
        {
          "output_type": "stream",
          "text": [
            "(525814, 10)\n"
          ],
          "name": "stdout"
        },
        {
          "output_type": "execute_result",
          "data": {
            "text/html": [
              "<div>\n",
              "<style scoped>\n",
              "    .dataframe tbody tr th:only-of-type {\n",
              "        vertical-align: middle;\n",
              "    }\n",
              "\n",
              "    .dataframe tbody tr th {\n",
              "        vertical-align: top;\n",
              "    }\n",
              "\n",
              "    .dataframe thead th {\n",
              "        text-align: right;\n",
              "    }\n",
              "</style>\n",
              "<table border=\"1\" class=\"dataframe\">\n",
              "  <thead>\n",
              "    <tr style=\"text-align: right;\">\n",
              "      <th></th>\n",
              "      <th>Id</th>\n",
              "      <th>ProductId</th>\n",
              "      <th>UserId</th>\n",
              "      <th>ProfileName</th>\n",
              "      <th>HelpfulnessNumerator</th>\n",
              "      <th>HelpfulnessDenominator</th>\n",
              "      <th>Score</th>\n",
              "      <th>Time</th>\n",
              "      <th>Summary</th>\n",
              "      <th>Text</th>\n",
              "    </tr>\n",
              "  </thead>\n",
              "  <tbody>\n",
              "    <tr>\n",
              "      <th>0</th>\n",
              "      <td>1</td>\n",
              "      <td>B001E4KFG0</td>\n",
              "      <td>A3SGXH7AUHU8GW</td>\n",
              "      <td>delmartian</td>\n",
              "      <td>1</td>\n",
              "      <td>1</td>\n",
              "      <td>1</td>\n",
              "      <td>1303862400</td>\n",
              "      <td>Good Quality Dog Food</td>\n",
              "      <td>I have bought several of the Vitality canned d...</td>\n",
              "    </tr>\n",
              "    <tr>\n",
              "      <th>1</th>\n",
              "      <td>2</td>\n",
              "      <td>B00813GRG4</td>\n",
              "      <td>A1D87F6ZCVE5NK</td>\n",
              "      <td>dll pa</td>\n",
              "      <td>0</td>\n",
              "      <td>0</td>\n",
              "      <td>0</td>\n",
              "      <td>1346976000</td>\n",
              "      <td>Not as Advertised</td>\n",
              "      <td>Product arrived labeled as Jumbo Salted Peanut...</td>\n",
              "    </tr>\n",
              "    <tr>\n",
              "      <th>2</th>\n",
              "      <td>3</td>\n",
              "      <td>B000LQOCH0</td>\n",
              "      <td>ABXLMWJIXXAIN</td>\n",
              "      <td>Natalia Corres \"Natalia Corres\"</td>\n",
              "      <td>1</td>\n",
              "      <td>1</td>\n",
              "      <td>1</td>\n",
              "      <td>1219017600</td>\n",
              "      <td>\"Delight\" says it all</td>\n",
              "      <td>This is a confection that has been around a fe...</td>\n",
              "    </tr>\n",
              "    <tr>\n",
              "      <th>3</th>\n",
              "      <td>4</td>\n",
              "      <td>B000UA0QIQ</td>\n",
              "      <td>A395BORC6FGVXV</td>\n",
              "      <td>Karl</td>\n",
              "      <td>3</td>\n",
              "      <td>3</td>\n",
              "      <td>0</td>\n",
              "      <td>1307923200</td>\n",
              "      <td>Cough Medicine</td>\n",
              "      <td>If you are looking for the secret ingredient i...</td>\n",
              "    </tr>\n",
              "    <tr>\n",
              "      <th>4</th>\n",
              "      <td>5</td>\n",
              "      <td>B006K2ZZ7K</td>\n",
              "      <td>A1UQRSCLF8GW1T</td>\n",
              "      <td>Michael D. Bigham \"M. Wassir\"</td>\n",
              "      <td>0</td>\n",
              "      <td>0</td>\n",
              "      <td>1</td>\n",
              "      <td>1350777600</td>\n",
              "      <td>Great taffy</td>\n",
              "      <td>Great taffy at a great price.  There was a wid...</td>\n",
              "    </tr>\n",
              "  </tbody>\n",
              "</table>\n",
              "</div>"
            ],
            "text/plain": [
              "   Id   ProductId          UserId                      ProfileName  \\\n",
              "0   1  B001E4KFG0  A3SGXH7AUHU8GW                       delmartian   \n",
              "1   2  B00813GRG4  A1D87F6ZCVE5NK                           dll pa   \n",
              "2   3  B000LQOCH0   ABXLMWJIXXAIN  Natalia Corres \"Natalia Corres\"   \n",
              "3   4  B000UA0QIQ  A395BORC6FGVXV                             Karl   \n",
              "4   5  B006K2ZZ7K  A1UQRSCLF8GW1T    Michael D. Bigham \"M. Wassir\"   \n",
              "\n",
              "   HelpfulnessNumerator  HelpfulnessDenominator  Score        Time  \\\n",
              "0                     1                       1      1  1303862400   \n",
              "1                     0                       0      0  1346976000   \n",
              "2                     1                       1      1  1219017600   \n",
              "3                     3                       3      0  1307923200   \n",
              "4                     0                       0      1  1350777600   \n",
              "\n",
              "                 Summary                                               Text  \n",
              "0  Good Quality Dog Food  I have bought several of the Vitality canned d...  \n",
              "1      Not as Advertised  Product arrived labeled as Jumbo Salted Peanut...  \n",
              "2  \"Delight\" says it all  This is a confection that has been around a fe...  \n",
              "3         Cough Medicine  If you are looking for the secret ingredient i...  \n",
              "4            Great taffy  Great taffy at a great price.  There was a wid...  "
            ]
          },
          "metadata": {
            "tags": []
          },
          "execution_count": 7
        }
      ]
    },
    {
      "metadata": {
        "colab_type": "text",
        "id": "HDxlSVOl7qhd"
      },
      "cell_type": "markdown",
      "source": [
        "NOTE :- In above table , in Score column 1 = positive review and 0 = negative review"
      ]
    },
    {
      "metadata": {
        "colab_type": "text",
        "id": "f2J00tlK8Afh"
      },
      "cell_type": "markdown",
      "source": [
        "## Data Cleaning: Deduplication"
      ]
    },
    {
      "metadata": {
        "colab_type": "code",
        "id": "8S-X5ITS73Uu",
        "outputId": "22eaf317-ae5d-4df8-f5d8-09cc62f4455a",
        "colab": {
          "base_uri": "https://localhost:8080/",
          "height": 1706
        }
      },
      "cell_type": "code",
      "source": [
        "#Sorting data according to ProductId in ascending order\n",
        "sorted_data=filtered_data.sort_values('ProductId', axis=0, ascending=True, inplace=False, kind='quicksort', na_position='last')\n",
        "\n",
        "#Deduplication of entries\n",
        "final=sorted_data.drop_duplicates(subset={\"UserId\",\"ProfileName\",\"Time\",\"Text\"}, keep='first', inplace=False)\n",
        "\n",
        "# Removing rows where HelpfulnessNumerator is greater than HelpfulnessDenominator\n",
        "final = final[final.HelpfulnessNumerator <= final.HelpfulnessDenominator]\n",
        "\n",
        "print(final.shape)\n",
        "final[30:50]"
      ],
      "execution_count": 8,
      "outputs": [
        {
          "output_type": "stream",
          "text": [
            "(364171, 10)\n"
          ],
          "name": "stdout"
        },
        {
          "output_type": "execute_result",
          "data": {
            "text/html": [
              "<div>\n",
              "<style scoped>\n",
              "    .dataframe tbody tr th:only-of-type {\n",
              "        vertical-align: middle;\n",
              "    }\n",
              "\n",
              "    .dataframe tbody tr th {\n",
              "        vertical-align: top;\n",
              "    }\n",
              "\n",
              "    .dataframe thead th {\n",
              "        text-align: right;\n",
              "    }\n",
              "</style>\n",
              "<table border=\"1\" class=\"dataframe\">\n",
              "  <thead>\n",
              "    <tr style=\"text-align: right;\">\n",
              "      <th></th>\n",
              "      <th>Id</th>\n",
              "      <th>ProductId</th>\n",
              "      <th>UserId</th>\n",
              "      <th>ProfileName</th>\n",
              "      <th>HelpfulnessNumerator</th>\n",
              "      <th>HelpfulnessDenominator</th>\n",
              "      <th>Score</th>\n",
              "      <th>Time</th>\n",
              "      <th>Summary</th>\n",
              "      <th>Text</th>\n",
              "    </tr>\n",
              "  </thead>\n",
              "  <tbody>\n",
              "    <tr>\n",
              "      <th>150500</th>\n",
              "      <td>150501</td>\n",
              "      <td>0006641040</td>\n",
              "      <td>AJ46FKXOVC7NR</td>\n",
              "      <td>Nicholas A Mesiano</td>\n",
              "      <td>2</td>\n",
              "      <td>2</td>\n",
              "      <td>1</td>\n",
              "      <td>940809600</td>\n",
              "      <td>This whole series is great way to spend time w...</td>\n",
              "      <td>I can remember seeing the show when it aired o...</td>\n",
              "    </tr>\n",
              "    <tr>\n",
              "      <th>150492</th>\n",
              "      <td>150493</td>\n",
              "      <td>0006641040</td>\n",
              "      <td>AMX0PJKV4PPNJ</td>\n",
              "      <td>E. R. Bird \"Ramseelbird\"</td>\n",
              "      <td>71</td>\n",
              "      <td>72</td>\n",
              "      <td>1</td>\n",
              "      <td>1096416000</td>\n",
              "      <td>Read it once. Read it twice. Reading Chicken S...</td>\n",
              "      <td>These days, when a person says, \"chicken soup\"...</td>\n",
              "    </tr>\n",
              "    <tr>\n",
              "      <th>150499</th>\n",
              "      <td>150500</td>\n",
              "      <td>0006641040</td>\n",
              "      <td>A1IJKK6Q1GTEAY</td>\n",
              "      <td>A Customer</td>\n",
              "      <td>2</td>\n",
              "      <td>2</td>\n",
              "      <td>1</td>\n",
              "      <td>1009324800</td>\n",
              "      <td>It Was a favorite!</td>\n",
              "      <td>This was a favorite book of mine when I was a ...</td>\n",
              "    </tr>\n",
              "    <tr>\n",
              "      <th>150498</th>\n",
              "      <td>150499</td>\n",
              "      <td>0006641040</td>\n",
              "      <td>A3E7R866M94L0C</td>\n",
              "      <td>L. Barker \"simienwolf\"</td>\n",
              "      <td>2</td>\n",
              "      <td>2</td>\n",
              "      <td>1</td>\n",
              "      <td>1065830400</td>\n",
              "      <td>Can't explain why</td>\n",
              "      <td>This book has been a favorite of mine since I ...</td>\n",
              "    </tr>\n",
              "    <tr>\n",
              "      <th>515425</th>\n",
              "      <td>515426</td>\n",
              "      <td>141278509X</td>\n",
              "      <td>AB1A5EGHHVA9M</td>\n",
              "      <td>CHelmic</td>\n",
              "      <td>1</td>\n",
              "      <td>1</td>\n",
              "      <td>1</td>\n",
              "      <td>1332547200</td>\n",
              "      <td>The best drink mix</td>\n",
              "      <td>This product by Archer Farms is the best drink...</td>\n",
              "    </tr>\n",
              "    <tr>\n",
              "      <th>24750</th>\n",
              "      <td>24751</td>\n",
              "      <td>2734888454</td>\n",
              "      <td>A1C298ITT645B6</td>\n",
              "      <td>Hugh G. Pritchard</td>\n",
              "      <td>0</td>\n",
              "      <td>0</td>\n",
              "      <td>1</td>\n",
              "      <td>1195948800</td>\n",
              "      <td>Dog Lover Delites</td>\n",
              "      <td>Our dogs just love them.  I saw them in a pet ...</td>\n",
              "    </tr>\n",
              "    <tr>\n",
              "      <th>24749</th>\n",
              "      <td>24750</td>\n",
              "      <td>2734888454</td>\n",
              "      <td>A13ISQV0U9GZIC</td>\n",
              "      <td>Sandikaye</td>\n",
              "      <td>1</td>\n",
              "      <td>1</td>\n",
              "      <td>0</td>\n",
              "      <td>1192060800</td>\n",
              "      <td>made in china</td>\n",
              "      <td>My dogs loves this chicken but its a product f...</td>\n",
              "    </tr>\n",
              "    <tr>\n",
              "      <th>308076</th>\n",
              "      <td>308077</td>\n",
              "      <td>2841233731</td>\n",
              "      <td>A3QD68O22M2XHQ</td>\n",
              "      <td>LABRNTH</td>\n",
              "      <td>0</td>\n",
              "      <td>0</td>\n",
              "      <td>1</td>\n",
              "      <td>1345852800</td>\n",
              "      <td>Great recipe book for my babycook</td>\n",
              "      <td>This book is easy to read and the ingredients ...</td>\n",
              "    </tr>\n",
              "    <tr>\n",
              "      <th>171160</th>\n",
              "      <td>171161</td>\n",
              "      <td>7310172001</td>\n",
              "      <td>AFXMWPNS1BLU4</td>\n",
              "      <td>H. Sandler</td>\n",
              "      <td>0</td>\n",
              "      <td>0</td>\n",
              "      <td>1</td>\n",
              "      <td>1229385600</td>\n",
              "      <td>Excellent treats</td>\n",
              "      <td>I have been feeding my greyhounds these treats...</td>\n",
              "    </tr>\n",
              "    <tr>\n",
              "      <th>171159</th>\n",
              "      <td>171160</td>\n",
              "      <td>7310172001</td>\n",
              "      <td>A74C7IARQEM1R</td>\n",
              "      <td>stucker</td>\n",
              "      <td>0</td>\n",
              "      <td>0</td>\n",
              "      <td>1</td>\n",
              "      <td>1230076800</td>\n",
              "      <td>Sophie's Treats</td>\n",
              "      <td>This is one product that my welsh terrier can ...</td>\n",
              "    </tr>\n",
              "    <tr>\n",
              "      <th>171143</th>\n",
              "      <td>171144</td>\n",
              "      <td>7310172001</td>\n",
              "      <td>A1V5MY8V9AWUQB</td>\n",
              "      <td>Cheryl Sapper \"champagne girl\"</td>\n",
              "      <td>0</td>\n",
              "      <td>0</td>\n",
              "      <td>1</td>\n",
              "      <td>1244764800</td>\n",
              "      <td>THE BEST healthy dog treat!</td>\n",
              "      <td>This is the ONLY dog treat that my Lhasa Apso ...</td>\n",
              "    </tr>\n",
              "    <tr>\n",
              "      <th>171142</th>\n",
              "      <td>171143</td>\n",
              "      <td>7310172001</td>\n",
              "      <td>A2SWO60IW01VPX</td>\n",
              "      <td>Sam</td>\n",
              "      <td>0</td>\n",
              "      <td>0</td>\n",
              "      <td>1</td>\n",
              "      <td>1252022400</td>\n",
              "      <td>My Alaskan Malamute Loves Them!!</td>\n",
              "      <td>These liver treas are phenomenal. When i recei...</td>\n",
              "    </tr>\n",
              "    <tr>\n",
              "      <th>171147</th>\n",
              "      <td>171148</td>\n",
              "      <td>7310172001</td>\n",
              "      <td>A3TFTWTG2CC1GA</td>\n",
              "      <td>J. Umphress</td>\n",
              "      <td>0</td>\n",
              "      <td>0</td>\n",
              "      <td>1</td>\n",
              "      <td>1240272000</td>\n",
              "      <td>Best treat ever!</td>\n",
              "      <td>This was the only treat my dog liked during ob...</td>\n",
              "    </tr>\n",
              "    <tr>\n",
              "      <th>171141</th>\n",
              "      <td>171142</td>\n",
              "      <td>7310172001</td>\n",
              "      <td>A2ZO1AYFVQYG44</td>\n",
              "      <td>Cindy Rellie \"Rellie\"</td>\n",
              "      <td>0</td>\n",
              "      <td>0</td>\n",
              "      <td>1</td>\n",
              "      <td>1254960000</td>\n",
              "      <td>my 12 year old maltese has always loved these</td>\n",
              "      <td>No waste , even if she is having a  day when s...</td>\n",
              "    </tr>\n",
              "    <tr>\n",
              "      <th>171140</th>\n",
              "      <td>171141</td>\n",
              "      <td>7310172001</td>\n",
              "      <td>AZ40270J4JBZN</td>\n",
              "      <td>Zhinka Chunmee \"gamer from way back in the 70's\"</td>\n",
              "      <td>0</td>\n",
              "      <td>0</td>\n",
              "      <td>1</td>\n",
              "      <td>1264291200</td>\n",
              "      <td>Dogs, Cats, Ferrets all love this</td>\n",
              "      <td>I wanted a treat that was accepted and well li...</td>\n",
              "    </tr>\n",
              "    <tr>\n",
              "      <th>171139</th>\n",
              "      <td>171140</td>\n",
              "      <td>7310172001</td>\n",
              "      <td>ADXXVGRCGQQUO</td>\n",
              "      <td>Richard Pearlstein</td>\n",
              "      <td>0</td>\n",
              "      <td>0</td>\n",
              "      <td>1</td>\n",
              "      <td>1264377600</td>\n",
              "      <td>5 snouts!</td>\n",
              "      <td>My Westie loves these things!  She loves anyth...</td>\n",
              "    </tr>\n",
              "    <tr>\n",
              "      <th>171138</th>\n",
              "      <td>171139</td>\n",
              "      <td>7310172001</td>\n",
              "      <td>A13MS1JQG2ADOJ</td>\n",
              "      <td>C. Perrone</td>\n",
              "      <td>0</td>\n",
              "      <td>0</td>\n",
              "      <td>1</td>\n",
              "      <td>1265760000</td>\n",
              "      <td>Best dog treat ever</td>\n",
              "      <td>This is the only dog treat that my terrier wil...</td>\n",
              "    </tr>\n",
              "    <tr>\n",
              "      <th>171137</th>\n",
              "      <td>171138</td>\n",
              "      <td>7310172001</td>\n",
              "      <td>A13LAE0YTXA11B</td>\n",
              "      <td>Dita Vyslouzilova \"dita\"</td>\n",
              "      <td>0</td>\n",
              "      <td>0</td>\n",
              "      <td>1</td>\n",
              "      <td>1269216000</td>\n",
              "      <td>Great for puppy training</td>\n",
              "      <td>New puppy loves this, only treat he will pay a...</td>\n",
              "    </tr>\n",
              "    <tr>\n",
              "      <th>171158</th>\n",
              "      <td>171159</td>\n",
              "      <td>7310172001</td>\n",
              "      <td>A16GY2RCF410DT</td>\n",
              "      <td>LB</td>\n",
              "      <td>0</td>\n",
              "      <td>0</td>\n",
              "      <td>1</td>\n",
              "      <td>1231718400</td>\n",
              "      <td>Great!</td>\n",
              "      <td>My dog loves these treats!  We started using t...</td>\n",
              "    </tr>\n",
              "    <tr>\n",
              "      <th>171144</th>\n",
              "      <td>171145</td>\n",
              "      <td>7310172001</td>\n",
              "      <td>A1L8DNQYY69L2Z</td>\n",
              "      <td>R. Flores</td>\n",
              "      <td>0</td>\n",
              "      <td>0</td>\n",
              "      <td>1</td>\n",
              "      <td>1243728000</td>\n",
              "      <td>Terrific Treats</td>\n",
              "      <td>This is a great treat which all three of my do...</td>\n",
              "    </tr>\n",
              "  </tbody>\n",
              "</table>\n",
              "</div>"
            ],
            "text/plain": [
              "            Id   ProductId          UserId  \\\n",
              "150500  150501  0006641040   AJ46FKXOVC7NR   \n",
              "150492  150493  0006641040   AMX0PJKV4PPNJ   \n",
              "150499  150500  0006641040  A1IJKK6Q1GTEAY   \n",
              "150498  150499  0006641040  A3E7R866M94L0C   \n",
              "515425  515426  141278509X   AB1A5EGHHVA9M   \n",
              "24750    24751  2734888454  A1C298ITT645B6   \n",
              "24749    24750  2734888454  A13ISQV0U9GZIC   \n",
              "308076  308077  2841233731  A3QD68O22M2XHQ   \n",
              "171160  171161  7310172001   AFXMWPNS1BLU4   \n",
              "171159  171160  7310172001   A74C7IARQEM1R   \n",
              "171143  171144  7310172001  A1V5MY8V9AWUQB   \n",
              "171142  171143  7310172001  A2SWO60IW01VPX   \n",
              "171147  171148  7310172001  A3TFTWTG2CC1GA   \n",
              "171141  171142  7310172001  A2ZO1AYFVQYG44   \n",
              "171140  171141  7310172001   AZ40270J4JBZN   \n",
              "171139  171140  7310172001   ADXXVGRCGQQUO   \n",
              "171138  171139  7310172001  A13MS1JQG2ADOJ   \n",
              "171137  171138  7310172001  A13LAE0YTXA11B   \n",
              "171158  171159  7310172001  A16GY2RCF410DT   \n",
              "171144  171145  7310172001  A1L8DNQYY69L2Z   \n",
              "\n",
              "                                             ProfileName  \\\n",
              "150500                                Nicholas A Mesiano   \n",
              "150492                          E. R. Bird \"Ramseelbird\"   \n",
              "150499                                        A Customer   \n",
              "150498                            L. Barker \"simienwolf\"   \n",
              "515425                                           CHelmic   \n",
              "24750                                  Hugh G. Pritchard   \n",
              "24749                                          Sandikaye   \n",
              "308076                                           LABRNTH   \n",
              "171160                                        H. Sandler   \n",
              "171159                                           stucker   \n",
              "171143                    Cheryl Sapper \"champagne girl\"   \n",
              "171142                                               Sam   \n",
              "171147                                       J. Umphress   \n",
              "171141                             Cindy Rellie \"Rellie\"   \n",
              "171140  Zhinka Chunmee \"gamer from way back in the 70's\"   \n",
              "171139                                Richard Pearlstein   \n",
              "171138                                        C. Perrone   \n",
              "171137                          Dita Vyslouzilova \"dita\"   \n",
              "171158                                                LB   \n",
              "171144                                         R. Flores   \n",
              "\n",
              "        HelpfulnessNumerator  HelpfulnessDenominator  Score        Time  \\\n",
              "150500                     2                       2      1   940809600   \n",
              "150492                    71                      72      1  1096416000   \n",
              "150499                     2                       2      1  1009324800   \n",
              "150498                     2                       2      1  1065830400   \n",
              "515425                     1                       1      1  1332547200   \n",
              "24750                      0                       0      1  1195948800   \n",
              "24749                      1                       1      0  1192060800   \n",
              "308076                     0                       0      1  1345852800   \n",
              "171160                     0                       0      1  1229385600   \n",
              "171159                     0                       0      1  1230076800   \n",
              "171143                     0                       0      1  1244764800   \n",
              "171142                     0                       0      1  1252022400   \n",
              "171147                     0                       0      1  1240272000   \n",
              "171141                     0                       0      1  1254960000   \n",
              "171140                     0                       0      1  1264291200   \n",
              "171139                     0                       0      1  1264377600   \n",
              "171138                     0                       0      1  1265760000   \n",
              "171137                     0                       0      1  1269216000   \n",
              "171158                     0                       0      1  1231718400   \n",
              "171144                     0                       0      1  1243728000   \n",
              "\n",
              "                                                  Summary  \\\n",
              "150500  This whole series is great way to spend time w...   \n",
              "150492  Read it once. Read it twice. Reading Chicken S...   \n",
              "150499                                 It Was a favorite!   \n",
              "150498                                  Can't explain why   \n",
              "515425                                 The best drink mix   \n",
              "24750                                   Dog Lover Delites   \n",
              "24749                                       made in china   \n",
              "308076                  Great recipe book for my babycook   \n",
              "171160                                   Excellent treats   \n",
              "171159                                    Sophie's Treats   \n",
              "171143                        THE BEST healthy dog treat!   \n",
              "171142                   My Alaskan Malamute Loves Them!!   \n",
              "171147                                   Best treat ever!   \n",
              "171141      my 12 year old maltese has always loved these   \n",
              "171140                  Dogs, Cats, Ferrets all love this   \n",
              "171139                                          5 snouts!   \n",
              "171138                                Best dog treat ever   \n",
              "171137                           Great for puppy training   \n",
              "171158                                             Great!   \n",
              "171144                                    Terrific Treats   \n",
              "\n",
              "                                                     Text  \n",
              "150500  I can remember seeing the show when it aired o...  \n",
              "150492  These days, when a person says, \"chicken soup\"...  \n",
              "150499  This was a favorite book of mine when I was a ...  \n",
              "150498  This book has been a favorite of mine since I ...  \n",
              "515425  This product by Archer Farms is the best drink...  \n",
              "24750   Our dogs just love them.  I saw them in a pet ...  \n",
              "24749   My dogs loves this chicken but its a product f...  \n",
              "308076  This book is easy to read and the ingredients ...  \n",
              "171160  I have been feeding my greyhounds these treats...  \n",
              "171159  This is one product that my welsh terrier can ...  \n",
              "171143  This is the ONLY dog treat that my Lhasa Apso ...  \n",
              "171142  These liver treas are phenomenal. When i recei...  \n",
              "171147  This was the only treat my dog liked during ob...  \n",
              "171141  No waste , even if she is having a  day when s...  \n",
              "171140  I wanted a treat that was accepted and well li...  \n",
              "171139  My Westie loves these things!  She loves anyth...  \n",
              "171138  This is the only dog treat that my terrier wil...  \n",
              "171137  New puppy loves this, only treat he will pay a...  \n",
              "171158  My dog loves these treats!  We started using t...  \n",
              "171144  This is a great treat which all three of my do...  "
            ]
          },
          "metadata": {
            "tags": []
          },
          "execution_count": 8
        }
      ]
    },
    {
      "metadata": {
        "colab_type": "text",
        "id": "yLMrCaNL8m6s"
      },
      "cell_type": "markdown",
      "source": [
        "OBSERVATION :- Here books with ProductId - 0006641040 and 2841233731 are also there so we have to remove all these rows with these ProductIds from the data"
      ]
    },
    {
      "metadata": {
        "colab_type": "code",
        "id": "RALy8jSO8smY",
        "outputId": "ff661849-369c-441d-ad9e-0fc8d0f6036d",
        "colab": {
          "base_uri": "https://localhost:8080/",
          "height": 34
        }
      },
      "cell_type": "code",
      "source": [
        "final = final[final['ProductId'] != '2841233731']\n",
        "final = final[final['ProductId'] != '0006641040']\n",
        "final.shape"
      ],
      "execution_count": 9,
      "outputs": [
        {
          "output_type": "execute_result",
          "data": {
            "text/plain": [
              "(364136, 10)"
            ]
          },
          "metadata": {
            "tags": []
          },
          "execution_count": 9
        }
      ]
    },
    {
      "metadata": {
        "colab_type": "text",
        "id": "cfjf8O2i80eM"
      },
      "cell_type": "markdown",
      "source": [
        "\n",
        "## Text Preprocessing: Stemming, stop-word removal and Lemmatization.¶\n"
      ]
    },
    {
      "metadata": {
        "colab_type": "code",
        "id": "VgP_Z3T685d9",
        "outputId": "c862acda-fecb-4ecb-a53c-b53e371cb4af",
        "colab": {
          "base_uri": "https://localhost:8080/",
          "height": 51
        }
      },
      "cell_type": "code",
      "source": [
        "# Downloading stopwords\n",
        "nltk.download('stopwords')\n",
        "\n",
        "#set of stopwords in English\n",
        "from nltk.corpus import stopwords\n",
        "stop = set(stopwords.words('english'))\n",
        "words_to_keep = set(('not'))\n",
        "stop -= words_to_keep\n",
        "#initialising the snowball stemmer\n",
        "sno = nltk.stem.SnowballStemmer('english')\n",
        "\n",
        " #function to clean the word of any html-tags\n",
        "def cleanhtml(sentence):\n",
        "    cleanr = re.compile('<.*?>')\n",
        "    cleantext = re.sub(cleanr, ' ', sentence)\n",
        "    return cleantext\n",
        "\n",
        "#function to clean the word of any punctuation or special characters\n",
        "def cleanpunc(sentence): \n",
        "    cleaned = re.sub(r'[?|!|\\'|\"|#]',r'',sentence)\n",
        "    cleaned = re.sub(r'[.|,|)|(|\\|/]',r' ',cleaned)\n",
        "    return  cleaned"
      ],
      "execution_count": 10,
      "outputs": [
        {
          "output_type": "stream",
          "text": [
            "[nltk_data] Downloading package stopwords to /root/nltk_data...\n",
            "[nltk_data]   Unzipping corpora/stopwords.zip.\n"
          ],
          "name": "stdout"
        }
      ]
    },
    {
      "metadata": {
        "colab_type": "code",
        "id": "QoRp-CcU9Q_0",
        "colab": {}
      },
      "cell_type": "code",
      "source": [
        "#Code for removing HTML tags , punctuations . Code for removing stopwords . Code for checking if word is not alphanumeric and\n",
        "# also greater than 2 . Code for stemmimg and also to convert them to lowercase letters \n",
        "i=0\n",
        "str1=' '\n",
        "final_string=[]\n",
        "all_positive_words=[] # store words from +ve reviews here\n",
        "all_negative_words=[] # store words from -ve reviews here.\n",
        "s=''\n",
        "for sent in final['Text'].values:\n",
        "    filtered_sentence=[]\n",
        "    #print(sent);\n",
        "    sent=cleanhtml(sent) # remove HTMl tags\n",
        "    for w in sent.split():\n",
        "        for cleaned_words in cleanpunc(w).split():\n",
        "            if((cleaned_words.isalpha()) & (len(cleaned_words)>2)):    \n",
        "                if(cleaned_words.lower() not in stop):\n",
        "                    s=(sno.stem(cleaned_words.lower())).encode('utf8')\n",
        "                    filtered_sentence.append(s)\n",
        "                    if (final['Score'].values)[i] == 1: \n",
        "                        all_positive_words.append(s) #list of all words used to describe positive reviews\n",
        "                    if(final['Score'].values)[i] == 0:\n",
        "                        all_negative_words.append(s) #list of all words used to describe negative reviews reviews\n",
        "                else:\n",
        "                    continue\n",
        "            else:\n",
        "                continue \n",
        "    \n",
        "    str1 = b\" \".join(filtered_sentence) #final string of cleaned words\n",
        "    \n",
        "    \n",
        "    final_string.append(str1)\n",
        "    i+=1"
      ],
      "execution_count": 0,
      "outputs": []
    },
    {
      "metadata": {
        "colab_type": "code",
        "id": "MevoV6b79pQE",
        "outputId": "9508834d-fe2a-4b75-cf9f-768738a61e14",
        "colab": {
          "base_uri": "https://localhost:8080/",
          "height": 391
        }
      },
      "cell_type": "code",
      "source": [
        "#adding a column of CleanedText which displays the data after pre-processing of the review\n",
        "final['CleanedText']=final_string  \n",
        "final['CleanedText']=final['CleanedText'].str.decode(\"utf-8\")\n",
        "#below the processed review can be seen in the CleanedText Column \n",
        "print('Shape of final',final.shape)\n",
        "final.head()"
      ],
      "execution_count": 12,
      "outputs": [
        {
          "output_type": "stream",
          "text": [
            "Shape of final (364136, 11)\n"
          ],
          "name": "stdout"
        },
        {
          "output_type": "execute_result",
          "data": {
            "text/html": [
              "<div>\n",
              "<style scoped>\n",
              "    .dataframe tbody tr th:only-of-type {\n",
              "        vertical-align: middle;\n",
              "    }\n",
              "\n",
              "    .dataframe tbody tr th {\n",
              "        vertical-align: top;\n",
              "    }\n",
              "\n",
              "    .dataframe thead th {\n",
              "        text-align: right;\n",
              "    }\n",
              "</style>\n",
              "<table border=\"1\" class=\"dataframe\">\n",
              "  <thead>\n",
              "    <tr style=\"text-align: right;\">\n",
              "      <th></th>\n",
              "      <th>Id</th>\n",
              "      <th>ProductId</th>\n",
              "      <th>UserId</th>\n",
              "      <th>ProfileName</th>\n",
              "      <th>HelpfulnessNumerator</th>\n",
              "      <th>HelpfulnessDenominator</th>\n",
              "      <th>Score</th>\n",
              "      <th>Time</th>\n",
              "      <th>Summary</th>\n",
              "      <th>Text</th>\n",
              "      <th>CleanedText</th>\n",
              "    </tr>\n",
              "  </thead>\n",
              "  <tbody>\n",
              "    <tr>\n",
              "      <th>515425</th>\n",
              "      <td>515426</td>\n",
              "      <td>141278509X</td>\n",
              "      <td>AB1A5EGHHVA9M</td>\n",
              "      <td>CHelmic</td>\n",
              "      <td>1</td>\n",
              "      <td>1</td>\n",
              "      <td>1</td>\n",
              "      <td>1332547200</td>\n",
              "      <td>The best drink mix</td>\n",
              "      <td>This product by Archer Farms is the best drink...</td>\n",
              "      <td>product archer farm best drink mix ever mix fl...</td>\n",
              "    </tr>\n",
              "    <tr>\n",
              "      <th>24750</th>\n",
              "      <td>24751</td>\n",
              "      <td>2734888454</td>\n",
              "      <td>A1C298ITT645B6</td>\n",
              "      <td>Hugh G. Pritchard</td>\n",
              "      <td>0</td>\n",
              "      <td>0</td>\n",
              "      <td>1</td>\n",
              "      <td>1195948800</td>\n",
              "      <td>Dog Lover Delites</td>\n",
              "      <td>Our dogs just love them.  I saw them in a pet ...</td>\n",
              "      <td>dog love saw pet store tag attach regard made ...</td>\n",
              "    </tr>\n",
              "    <tr>\n",
              "      <th>24749</th>\n",
              "      <td>24750</td>\n",
              "      <td>2734888454</td>\n",
              "      <td>A13ISQV0U9GZIC</td>\n",
              "      <td>Sandikaye</td>\n",
              "      <td>1</td>\n",
              "      <td>1</td>\n",
              "      <td>0</td>\n",
              "      <td>1192060800</td>\n",
              "      <td>made in china</td>\n",
              "      <td>My dogs loves this chicken but its a product f...</td>\n",
              "      <td>dog love chicken product china wont buy anymor...</td>\n",
              "    </tr>\n",
              "    <tr>\n",
              "      <th>171160</th>\n",
              "      <td>171161</td>\n",
              "      <td>7310172001</td>\n",
              "      <td>AFXMWPNS1BLU4</td>\n",
              "      <td>H. Sandler</td>\n",
              "      <td>0</td>\n",
              "      <td>0</td>\n",
              "      <td>1</td>\n",
              "      <td>1229385600</td>\n",
              "      <td>Excellent treats</td>\n",
              "      <td>I have been feeding my greyhounds these treats...</td>\n",
              "      <td>feed greyhound treat year hound littl finicki ...</td>\n",
              "    </tr>\n",
              "    <tr>\n",
              "      <th>171159</th>\n",
              "      <td>171160</td>\n",
              "      <td>7310172001</td>\n",
              "      <td>A74C7IARQEM1R</td>\n",
              "      <td>stucker</td>\n",
              "      <td>0</td>\n",
              "      <td>0</td>\n",
              "      <td>1</td>\n",
              "      <td>1230076800</td>\n",
              "      <td>Sophie's Treats</td>\n",
              "      <td>This is one product that my welsh terrier can ...</td>\n",
              "      <td>one product welsh terrier eat sophi food alerg...</td>\n",
              "    </tr>\n",
              "  </tbody>\n",
              "</table>\n",
              "</div>"
            ],
            "text/plain": [
              "            Id   ProductId          UserId        ProfileName  \\\n",
              "515425  515426  141278509X   AB1A5EGHHVA9M            CHelmic   \n",
              "24750    24751  2734888454  A1C298ITT645B6  Hugh G. Pritchard   \n",
              "24749    24750  2734888454  A13ISQV0U9GZIC          Sandikaye   \n",
              "171160  171161  7310172001   AFXMWPNS1BLU4         H. Sandler   \n",
              "171159  171160  7310172001   A74C7IARQEM1R            stucker   \n",
              "\n",
              "        HelpfulnessNumerator  HelpfulnessDenominator  Score        Time  \\\n",
              "515425                     1                       1      1  1332547200   \n",
              "24750                      0                       0      1  1195948800   \n",
              "24749                      1                       1      0  1192060800   \n",
              "171160                     0                       0      1  1229385600   \n",
              "171159                     0                       0      1  1230076800   \n",
              "\n",
              "                   Summary                                               Text  \\\n",
              "515425  The best drink mix  This product by Archer Farms is the best drink...   \n",
              "24750    Dog Lover Delites  Our dogs just love them.  I saw them in a pet ...   \n",
              "24749        made in china  My dogs loves this chicken but its a product f...   \n",
              "171160    Excellent treats  I have been feeding my greyhounds these treats...   \n",
              "171159     Sophie's Treats  This is one product that my welsh terrier can ...   \n",
              "\n",
              "                                              CleanedText  \n",
              "515425  product archer farm best drink mix ever mix fl...  \n",
              "24750   dog love saw pet store tag attach regard made ...  \n",
              "24749   dog love chicken product china wont buy anymor...  \n",
              "171160  feed greyhound treat year hound littl finicki ...  \n",
              "171159  one product welsh terrier eat sophi food alerg...  "
            ]
          },
          "metadata": {
            "tags": []
          },
          "execution_count": 12
        }
      ]
    },
    {
      "metadata": {
        "colab_type": "text",
        "id": "4G-Ma7WV_9p7"
      },
      "cell_type": "markdown",
      "source": [
        "## Converting this data as IMDB dataset"
      ]
    },
    {
      "metadata": {
        "colab_type": "code",
        "id": "DbRJgfNn_07Z",
        "outputId": "48ec1cc2-e90b-4774-9508-9c6ab441562d",
        "colab": {
          "base_uri": "https://localhost:8080/",
          "height": 34
        }
      },
      "cell_type": "code",
      "source": [
        "##Sorting data according to Time in ascending order for Time Based Splitting\n",
        "time_sorted_data = final.sort_values('Time', axis=0, ascending=True, inplace=False, kind='quicksort', na_position='last')\n",
        "\n",
        "x = time_sorted_data['CleanedText'].values\n",
        "y = time_sorted_data['Score']\n",
        "\n",
        "# Finding all words in the vocabulary\n",
        "count_vect = CountVectorizer() \n",
        "count_vect.fit(x)\n",
        "\n",
        "vocabulary = count_vect.get_feature_names()\n",
        "print('No. of words in the Vocabulary : ',len(vocabulary))"
      ],
      "execution_count": 13,
      "outputs": [
        {
          "output_type": "stream",
          "text": [
            "No. of words in the Vocabulary :  71611\n"
          ],
          "name": "stdout"
        }
      ]
    },
    {
      "metadata": {
        "colab_type": "code",
        "id": "t1kFVVm-BXPj",
        "colab": {}
      },
      "cell_type": "code",
      "source": [
        "# Storing all words in the dictionary (words as keys and index as values)\n",
        "corpus = dict()\n",
        "ind = 0\n",
        "for sent in x:\n",
        "  for word in sent.split():\n",
        "    corpus.setdefault(word,[])\n",
        "    corpus[word].append(ind)\n",
        "    ind += 1\n",
        "\n",
        "# Getting frequency for each word of vocabulary and storing it in a list\n",
        "freq = []\n",
        "for w in vocabulary:\n",
        "  freq.append(len(corpus[w]))\n"
      ],
      "execution_count": 0,
      "outputs": []
    },
    {
      "metadata": {
        "colab_type": "code",
        "id": "e82AEvbWI9nC",
        "colab": {}
      },
      "cell_type": "code",
      "source": [
        "# Getting Index for each word in the vocabulary\n",
        "# Sorting frequencies in decreasing order\n",
        "inc_index =np.argsort(np.array(freq))[::-1]\n",
        "\n",
        "# Allocating ranks to words of vocabulary in decreasing order of frequency and storing words in a dictionary\n",
        "word_rank = dict()\n",
        "rank = 1\n",
        "for i in inc_index:\n",
        "  word_rank[vocabulary[i]] = rank\n",
        "  rank +=1  "
      ],
      "execution_count": 0,
      "outputs": []
    },
    {
      "metadata": {
        "colab_type": "code",
        "id": "vAFslIO0OFTi",
        "colab": {}
      },
      "cell_type": "code",
      "source": [
        "# Converting full data into imdb format\n",
        "data = []\n",
        "for sent in x:\n",
        "  row = []\n",
        "  for word in sent.split():\n",
        "    if(len(word)>1):\n",
        "      row.append(word_rank[word])\n",
        "  data.append(row)\n",
        "\n",
        "# Splitting the data into 50-50 train_data and test_data\n",
        "from sklearn.model_selection import train_test_split \n",
        "X_train, X_test, Y_train, Y_test = train_test_split(data, y, test_size=0.5, random_state=42)    "
      ],
      "execution_count": 0,
      "outputs": []
    },
    {
      "metadata": {
        "colab_type": "code",
        "id": "k83hilU7JQVk",
        "outputId": "3835c7d5-5b77-4b65-9da1-b8a8a55aab0b",
        "colab": {
          "base_uri": "https://localhost:8080/",
          "height": 85
        }
      },
      "cell_type": "code",
      "source": [
        "print(\"No. of datapoints in X_train :\",len(X_train))\n",
        "print(\"No. of datapoints in X_test :\",len(X_test))\n",
        "print(\"Shape of Y_train :\",Y_train.shape)\n",
        "print(\"Shape of Y_test :\",Y_test.shape)"
      ],
      "execution_count": 17,
      "outputs": [
        {
          "output_type": "stream",
          "text": [
            "No. of datapoints in X_train : 182068\n",
            "No. of datapoints in X_test : 182068\n",
            "Shape of Y_train : (182068,)\n",
            "Shape of Y_test : (182068,)\n"
          ],
          "name": "stdout"
        }
      ]
    },
    {
      "metadata": {
        "id": "4EOYgK8eI78_",
        "colab_type": "code",
        "outputId": "0a64980f-8c3e-44e5-81ba-73f9fff36806",
        "colab": {
          "base_uri": "https://localhost:8080/",
          "height": 34
        }
      },
      "cell_type": "code",
      "source": [
        "182068+182068\n"
      ],
      "execution_count": 0,
      "outputs": [
        {
          "output_type": "execute_result",
          "data": {
            "text/plain": [
              "364136"
            ]
          },
          "metadata": {
            "tags": []
          },
          "execution_count": 1
        }
      ]
    },
    {
      "metadata": {
        "colab_type": "code",
        "id": "M03jZ65gctMs",
        "outputId": "0e035ccb-b0b3-4265-b04a-0a5f566b595f",
        "colab": {
          "base_uri": "https://localhost:8080/",
          "height": 34
        }
      },
      "cell_type": "code",
      "source": [
        "# Importing libraries\n",
        "from keras.models import Sequential\n",
        "from keras.layers import Dense\n",
        "from keras.layers import LSTM\n",
        "from keras.layers.embeddings import Embedding\n",
        "from keras.preprocessing import sequence\n",
        "from keras.layers import Dropout\n",
        "# fix random seed for reproducibility\n",
        "np.random.seed(7)"
      ],
      "execution_count": 18,
      "outputs": [
        {
          "output_type": "stream",
          "text": [
            "Using TensorFlow backend.\n"
          ],
          "name": "stderr"
        }
      ]
    },
    {
      "metadata": {
        "colab_type": "code",
        "id": "DnaAjRkic_ui",
        "outputId": "81335371-bfe9-45b1-a4a3-93080c097a23",
        "colab": {
          "base_uri": "https://localhost:8080/",
          "height": 136
        }
      },
      "cell_type": "code",
      "source": [
        "# truncate and/or pad input sequences\n",
        "max_review_length = 100\n",
        "X_train = sequence.pad_sequences(X_train, maxlen=max_review_length)\n",
        "X_test = sequence.pad_sequences(X_test, maxlen=max_review_length)\n",
        "\n",
        "print(X_train.shape)\n",
        "print(X_train[1])"
      ],
      "execution_count": 19,
      "outputs": [
        {
          "output_type": "stream",
          "text": [
            "(182068, 100)\n",
            "[  0   0   0   0   0   0   0   0   0   0   0   0   0   0   0   0   0   0\n",
            "   0   0   0   0   0   0   0   0   0   0   0   0   0   0   0   0   0   0\n",
            "   0   0   0   0   0   0   0   0   0   0   0   0   0   0   0   0   0   0\n",
            "   0   0   0   0   0   0   0   0   0   0   0   0   0   0   0   0   0   0\n",
            "   0   0   0   0   0   0   0   0   0   0   0   0   0   0   0   0   0 152\n",
            "  30 241  93 877 313 117  14 329  47  67]\n"
          ],
          "name": "stdout"
        }
      ]
    },
    {
      "metadata": {
        "colab_type": "code",
        "id": "Y_9306Ced2B7",
        "colab": {}
      },
      "cell_type": "code",
      "source": [
        "# this function is used draw Binary Crossentropy Loss VS No. of epochs plot\n",
        "def plt_dynamic(x, vy, ty):\n",
        "  plt.figure(figsize=(10,5))\n",
        "  plt.plot(x, vy, 'b', label=\"Validation Loss\")\n",
        "  plt.plot(x, ty, 'r', label=\"Train Loss\")\n",
        "  plt.xlabel('Epochs') \n",
        "  plt.ylabel('Binary Crossentropy Loss')\n",
        "  plt.title('\\nBinary Crossentropy Loss VS Epochs')\n",
        "  plt.legend()\n",
        "  plt.grid()\n",
        "  plt.show()"
      ],
      "execution_count": 0,
      "outputs": []
    },
    {
      "metadata": {
        "colab_type": "text",
        "id": "6IQIDAi2dk1-"
      },
      "cell_type": "markdown",
      "source": [
        "## (1) RNN with 1 LSTM layer"
      ]
    },
    {
      "metadata": {
        "colab_type": "code",
        "id": "8l9ZsJ_xeIb4",
        "outputId": "66427847-f28f-4e3c-fb3b-f587a8fc6af7",
        "colab": {
          "base_uri": "https://localhost:8080/",
          "height": 853
        }
      },
      "cell_type": "code",
      "source": [
        "# create the model\n",
        "embedding_vecor_length = 32\n",
        "\n",
        "# Initialising the model\n",
        "model_1 = Sequential()\n",
        "\n",
        "# Adding embedding\n",
        "model_1.add(Embedding(len(vocabulary), embedding_vecor_length, input_length=max_review_length))\n",
        "\n",
        "# Adding Dropout\n",
        "model_1.add(Dropout(0.2))\n",
        "\n",
        "# Adding first LSTM layer\n",
        "model_1.add(LSTM(100))\n",
        "\n",
        "# Adding Dropout\n",
        "model_1.add(Dropout(0.2))\n",
        "\n",
        "# Adding output layer\n",
        "model_1.add(Dense(1, activation='sigmoid'))\n",
        "\n",
        "# Printing the model summary\n",
        "print(model_1.summary())\n",
        "\n",
        "# Compiling the model\n",
        "model_1.compile(loss='binary_crossentropy', optimizer='adam', metrics=['accuracy'])\n",
        "\n",
        "# Fitting the data to the model\n",
        "history_1 = model_1.fit(X_train, Y_train, nb_epoch=10, batch_size=512 ,verbose=1,validation_data=(X_test, Y_test))\n",
        "\n"
      ],
      "execution_count": 0,
      "outputs": [
        {
          "output_type": "stream",
          "text": [
            "WARNING:tensorflow:From /usr/local/lib/python3.6/dist-packages/tensorflow/python/framework/op_def_library.py:263: colocate_with (from tensorflow.python.framework.ops) is deprecated and will be removed in a future version.\n",
            "Instructions for updating:\n",
            "Colocations handled automatically by placer.\n",
            "WARNING:tensorflow:From /usr/local/lib/python3.6/dist-packages/keras/backend/tensorflow_backend.py:3445: calling dropout (from tensorflow.python.ops.nn_ops) with keep_prob is deprecated and will be removed in a future version.\n",
            "Instructions for updating:\n",
            "Please use `rate` instead of `keep_prob`. Rate should be set to `rate = 1 - keep_prob`.\n",
            "_________________________________________________________________\n",
            "Layer (type)                 Output Shape              Param #   \n",
            "=================================================================\n",
            "embedding_1 (Embedding)      (None, 100, 32)           2291552   \n",
            "_________________________________________________________________\n",
            "dropout_1 (Dropout)          (None, 100, 32)           0         \n",
            "_________________________________________________________________\n",
            "lstm_1 (LSTM)                (None, 100)               53200     \n",
            "_________________________________________________________________\n",
            "dropout_2 (Dropout)          (None, 100)               0         \n",
            "_________________________________________________________________\n",
            "dense_1 (Dense)              (None, 1)                 101       \n",
            "=================================================================\n",
            "Total params: 2,344,853\n",
            "Trainable params: 2,344,853\n",
            "Non-trainable params: 0\n",
            "_________________________________________________________________\n",
            "None\n",
            "WARNING:tensorflow:From /usr/local/lib/python3.6/dist-packages/tensorflow/python/ops/math_ops.py:3066: to_int32 (from tensorflow.python.ops.math_ops) is deprecated and will be removed in a future version.\n",
            "Instructions for updating:\n",
            "Use tf.cast instead.\n",
            "Train on 182068 samples, validate on 182068 samples\n",
            "Epoch 1/10\n",
            "182068/182068 [==============================] - 77s 423us/step - loss: 0.2639 - acc: 0.8982 - val_loss: 0.2019 - val_acc: 0.9205\n",
            "Epoch 2/10\n",
            "182068/182068 [==============================] - 74s 409us/step - loss: 0.1841 - acc: 0.9290 - val_loss: 0.1981 - val_acc: 0.9227\n",
            "Epoch 3/10\n",
            "182068/182068 [==============================] - 74s 406us/step - loss: 0.1680 - acc: 0.9354 - val_loss: 0.1988 - val_acc: 0.9216\n",
            "Epoch 4/10\n",
            "182068/182068 [==============================] - 73s 403us/step - loss: 0.1569 - acc: 0.9398 - val_loss: 0.2013 - val_acc: 0.9227\n",
            "Epoch 5/10\n",
            "182068/182068 [==============================] - 73s 402us/step - loss: 0.1472 - acc: 0.9436 - val_loss: 0.1986 - val_acc: 0.9213\n",
            "Epoch 6/10\n",
            "182068/182068 [==============================] - 73s 400us/step - loss: 0.1381 - acc: 0.9473 - val_loss: 0.2111 - val_acc: 0.9182\n",
            "Epoch 7/10\n",
            "182068/182068 [==============================] - 75s 413us/step - loss: 0.1285 - acc: 0.9513 - val_loss: 0.2153 - val_acc: 0.9199\n",
            "Epoch 8/10\n",
            "182068/182068 [==============================] - 74s 407us/step - loss: 0.1206 - acc: 0.9544 - val_loss: 0.2193 - val_acc: 0.9192\n",
            "Epoch 9/10\n",
            "182068/182068 [==============================] - 74s 405us/step - loss: 0.1137 - acc: 0.9576 - val_loss: 0.2324 - val_acc: 0.9192\n",
            "Epoch 10/10\n",
            "182068/182068 [==============================] - 73s 402us/step - loss: 0.1056 - acc: 0.9605 - val_loss: 0.2477 - val_acc: 0.9166\n"
          ],
          "name": "stdout"
        }
      ]
    },
    {
      "metadata": {
        "colab_type": "code",
        "id": "tugwxXzEgfp1",
        "outputId": "0e962e3b-445e-48fd-ab94-ff927b69d5e2",
        "colab": {
          "base_uri": "https://localhost:8080/",
          "height": 380
        }
      },
      "cell_type": "code",
      "source": [
        "# Final evaluation of the model\n",
        "scores = model_1.evaluate(X_test, Y_test, verbose=0)\n",
        "print(\"Accuracy: %.2f%%\" % (scores[1]*100))\n",
        "\n",
        "# Test and train accuracy of the model\n",
        "model_1_test = scores[1]\n",
        "model_1_train = max(history_1.history['acc'])\n",
        "\n",
        "# Plotting Train and Test Loss VS no. of epochs\n",
        "# list of epoch numbers\n",
        "x = list(range(1,11))\n",
        "\n",
        "# Validation loss\n",
        "vy = history_1.history['val_loss']\n",
        "# Training loss\n",
        "ty = history_1.history['loss']\n",
        "\n",
        "# Calling the function to draw the plot\n",
        "plt_dynamic(x, vy, ty)"
      ],
      "execution_count": 0,
      "outputs": [
        {
          "output_type": "stream",
          "text": [
            "Accuracy: 91.66%\n"
          ],
          "name": "stdout"
        },
        {
          "output_type": "display_data",
          "data": {
            "image/png": "[encoded data removed]",
            "text/plain": [
              "<Figure size 720x360 with 1 Axes>"
            ]
          },
          "metadata": {
            "tags": []
          }
        }
      ]
    },
    {
      "metadata": {
        "colab_type": "text",
        "id": "zh8VHBorpqYc"
      },
      "cell_type": "markdown",
      "source": [
        "## (2). RNN with 2 LSTM layers"
      ]
    },
    {
      "metadata": {
        "colab_type": "code",
        "id": "uWbWmS25px58",
        "outputId": "2a222026-c1a6-4878-b0c3-1f35866dfdba",
        "colab": {
          "base_uri": "https://localhost:8080/",
          "height": 646
        }
      },
      "cell_type": "code",
      "source": [
        "# create the model\n",
        "embedding_vecor_length = 32\n",
        "\n",
        "# Initialising the model\n",
        "model_2 = Sequential()\n",
        "\n",
        "# Adding embedding\n",
        "model_2.add(Embedding(len(vocabulary), embedding_vecor_length, input_length=max_review_length))\n",
        "\n",
        "# Adding first LSTM layer\n",
        "model_2.add(LSTM(100,return_sequences=True, dropout=0.4, recurrent_dropout=0.4))\n",
        "\n",
        "# Adding second LSTM layer\n",
        "model_2.add(LSTM(100, dropout=0.4, recurrent_dropout=0.4))\n",
        "\n",
        "# Adding output layer\n",
        "model_2.add(Dense(1, activation='sigmoid'))\n",
        "\n",
        "# Printing the model summary\n",
        "print(model_2.summary())\n",
        "\n",
        "# Compiling the model\n",
        "model_2.compile(loss='binary_crossentropy', optimizer='adam', metrics=['accuracy'])\n",
        "\n",
        "# Fitting the data to the model\n",
        "history_2 = model_2.fit(X_train, Y_train, nb_epoch=10, batch_size=512 ,verbose=1,validation_data=(X_test, Y_test))"
      ],
      "execution_count": 0,
      "outputs": [
        {
          "output_type": "stream",
          "text": [
            "_________________________________________________________________\n",
            "Layer (type)                 Output Shape              Param #   \n",
            "=================================================================\n",
            "embedding_2 (Embedding)      (None, 100, 32)           2291552   \n",
            "_________________________________________________________________\n",
            "lstm_2 (LSTM)                (None, 100, 100)          53200     \n",
            "_________________________________________________________________\n",
            "lstm_3 (LSTM)                (None, 100)               80400     \n",
            "_________________________________________________________________\n",
            "dense_2 (Dense)              (None, 1)                 101       \n",
            "=================================================================\n",
            "Total params: 2,425,253\n",
            "Trainable params: 2,425,253\n",
            "Non-trainable params: 0\n",
            "_________________________________________________________________\n",
            "None\n",
            "Train on 182068 samples, validate on 182068 samples\n",
            "Epoch 1/10\n",
            "182068/182068 [==============================] - 165s 906us/step - loss: 0.2707 - acc: 0.8968 - val_loss: 0.2044 - val_acc: 0.9199\n",
            "Epoch 2/10\n",
            "182068/182068 [==============================] - 164s 901us/step - loss: 0.1930 - acc: 0.9263 - val_loss: 0.1987 - val_acc: 0.9218\n",
            "Epoch 3/10\n",
            "182068/182068 [==============================] - 164s 903us/step - loss: 0.1781 - acc: 0.9319 - val_loss: 0.1973 - val_acc: 0.9229\n",
            "Epoch 4/10\n",
            "182068/182068 [==============================] - 166s 911us/step - loss: 0.1680 - acc: 0.9358 - val_loss: 0.2028 - val_acc: 0.9230\n",
            "Epoch 5/10\n",
            "182068/182068 [==============================] - 163s 893us/step - loss: 0.1600 - acc: 0.9390 - val_loss: 0.2008 - val_acc: 0.9221\n",
            "Epoch 6/10\n",
            "182068/182068 [==============================] - 163s 897us/step - loss: 0.1541 - acc: 0.9415 - val_loss: 0.2145 - val_acc: 0.9222\n",
            "Epoch 7/10\n",
            "182068/182068 [==============================] - 162s 891us/step - loss: 0.1477 - acc: 0.9439 - val_loss: 0.2057 - val_acc: 0.9224\n",
            "Epoch 8/10\n",
            "182068/182068 [==============================] - 164s 901us/step - loss: 0.1412 - acc: 0.9466 - val_loss: 0.2123 - val_acc: 0.9210\n",
            "Epoch 9/10\n",
            "182068/182068 [==============================] - 163s 893us/step - loss: 0.1365 - acc: 0.9485 - val_loss: 0.2145 - val_acc: 0.9220\n",
            "Epoch 10/10\n",
            "182068/182068 [==============================] - 164s 900us/step - loss: 0.1312 - acc: 0.9516 - val_loss: 0.2284 - val_acc: 0.9207\n"
          ],
          "name": "stdout"
        }
      ]
    },
    {
      "metadata": {
        "colab_type": "code",
        "id": "pQz6tMLDqW8-",
        "outputId": "ffea8b58-388d-4b14-c825-ed4f2e6dd7cb",
        "colab": {
          "base_uri": "https://localhost:8080/",
          "height": 380
        }
      },
      "cell_type": "code",
      "source": [
        "# Final evaluation of the model\n",
        "scores = model_2.evaluate(X_test, Y_test, verbose=0)\n",
        "print(\"Accuracy: %.2f%%\" % (scores[1]*100))\n",
        "\n",
        "# Test and train accuracy of the model\n",
        "model_2_test = scores[1]\n",
        "model_2_train = max(history_2.history['acc'])\n",
        "\n",
        "# Plotting Train and Test Loss VS no. of epochs\n",
        "# list of epoch numbers\n",
        "x = list(range(1,11))\n",
        "\n",
        "# Validation loss\n",
        "vy = history_2.history['val_loss']\n",
        "# Training loss\n",
        "ty = history_2.history['loss']\n",
        "\n",
        "# Calling the function to draw the plot\n",
        "plt_dynamic(x, vy, ty)"
      ],
      "execution_count": 0,
      "outputs": [
        {
          "output_type": "stream",
          "text": [
            "Accuracy: 92.07%\n"
          ],
          "name": "stdout"
        },
        {
          "output_type": "display_data",
          "data": {
            "image/png": "[encoded data removed]",
            "text/plain": [
              "<Figure size 720x360 with 1 Axes>"
            ]
          },
          "metadata": {
            "tags": []
          }
        }
      ]
    },
    {
      "metadata": {
        "colab_type": "text",
        "id": "rkm43qj75YE0"
      },
      "cell_type": "markdown",
      "source": [
        "## (3). RNN with 3 LSTM layers"
      ]
    },
    {
      "metadata": {
        "colab_type": "code",
        "id": "XC2OX8Jp5ere",
        "outputId": "9276b5ce-d7ec-4751-d085-4d3502010bbc",
        "colab": {
          "base_uri": "https://localhost:8080/",
          "height": 578
        }
      },
      "cell_type": "code",
      "source": [
        "# create the model\n",
        "embedding_vecor_length = 32\n",
        "\n",
        "# Initialising the model\n",
        "model_3 = Sequential()\n",
        "\n",
        "# Adding embedding\n",
        "model_3.add(Embedding(len(vocabulary), embedding_vecor_length, input_length=max_review_length))\n",
        "\n",
        "# Adding first LSTM layer\n",
        "model_3.add(LSTM(100,return_sequences=True, dropout=0.4, recurrent_dropout=0.4))\n",
        "\n",
        "# Adding second LSTM layer\n",
        "model_3.add(LSTM(100,return_sequences=True, dropout=0.5, recurrent_dropout=0.5))\n",
        "\n",
        "# Adding third LSTM layer\n",
        "model_3.add(LSTM(100, dropout=0.4, recurrent_dropout=0.4))\n",
        "\n",
        "# Adding output layer\n",
        "model_3.add(Dense(1, activation='sigmoid'))\n",
        "\n",
        "# Printing the model summary\n",
        "print(model_3.summary())\n",
        "\n",
        "# Compiling the model\n",
        "model_3.compile(loss='binary_crossentropy', optimizer='adam', metrics=['accuracy'])\n",
        "\n",
        "# Fitting the data to the model\n",
        "history_3 = model_3.fit(X_train, Y_train, nb_epoch=7, batch_size=1024 ,verbose=1,validation_data=(X_test, Y_test))"
      ],
      "execution_count": 0,
      "outputs": [
        {
          "output_type": "stream",
          "text": [
            "_________________________________________________________________\n",
            "Layer (type)                 Output Shape              Param #   \n",
            "=================================================================\n",
            "embedding_3 (Embedding)      (None, 100, 32)           2291552   \n",
            "_________________________________________________________________\n",
            "lstm_4 (LSTM)                (None, 100, 100)          53200     \n",
            "_________________________________________________________________\n",
            "lstm_5 (LSTM)                (None, 100, 100)          80400     \n",
            "_________________________________________________________________\n",
            "lstm_6 (LSTM)                (None, 100)               80400     \n",
            "_________________________________________________________________\n",
            "dense_3 (Dense)              (None, 1)                 101       \n",
            "=================================================================\n",
            "Total params: 2,505,653\n",
            "Trainable params: 2,505,653\n",
            "Non-trainable params: 0\n",
            "_________________________________________________________________\n",
            "None\n",
            "Train on 182068 samples, validate on 182068 samples\n",
            "Epoch 1/7\n",
            "182068/182068 [==============================] - 125s 686us/step - loss: 0.3103 - acc: 0.8823 - val_loss: 0.2145 - val_acc: 0.9142\n",
            "Epoch 2/7\n",
            "182068/182068 [==============================] - 123s 673us/step - loss: 0.2033 - acc: 0.9209 - val_loss: 0.2013 - val_acc: 0.9214\n",
            "Epoch 3/7\n",
            "182068/182068 [==============================] - 124s 679us/step - loss: 0.1843 - acc: 0.9297 - val_loss: 0.2036 - val_acc: 0.9213\n",
            "Epoch 4/7\n",
            "182068/182068 [==============================] - 122s 668us/step - loss: 0.1740 - acc: 0.9340 - val_loss: 0.1989 - val_acc: 0.9221\n",
            "Epoch 5/7\n",
            "182068/182068 [==============================] - 124s 679us/step - loss: 0.1670 - acc: 0.9368 - val_loss: 0.2013 - val_acc: 0.9210\n",
            "Epoch 6/7\n",
            "182068/182068 [==============================] - 126s 691us/step - loss: 0.1606 - acc: 0.9395 - val_loss: 0.2043 - val_acc: 0.9213\n",
            "Epoch 7/7\n",
            "182068/182068 [==============================] - 119s 652us/step - loss: 0.1555 - acc: 0.9415 - val_loss: 0.2032 - val_acc: 0.9212\n"
          ],
          "name": "stdout"
        }
      ]
    },
    {
      "metadata": {
        "colab_type": "code",
        "id": "HotTwxV36NoP",
        "outputId": "6759b82f-3031-4c91-9925-38d26fbdb603",
        "colab": {
          "base_uri": "https://localhost:8080/",
          "height": 380
        }
      },
      "cell_type": "code",
      "source": [
        "# Final evaluation of the model\n",
        "scores = model_3.evaluate(X_test, Y_test, verbose=0)\n",
        "print(\"Accuracy: %.2f%%\" % (scores[1]*100))\n",
        "\n",
        "# Test and train accuracy of the model\n",
        "model_3_test = scores[1]\n",
        "model_3_train = max(history_3.history['acc'])\n",
        "\n",
        "# Plotting Train and Test Loss VS no. of epochs\n",
        "# list of epoch numbers\n",
        "x = list(range(1,8))\n",
        "\n",
        "# Validation loss\n",
        "vy = history_3.history['val_loss']\n",
        "# Training loss\n",
        "ty = history_3.history['loss']\n",
        "\n",
        "# Calling the function to draw the plot\n",
        "plt_dynamic(x, vy, ty)"
      ],
      "execution_count": 0,
      "outputs": [
        {
          "output_type": "stream",
          "text": [
            "Accuracy: 92.12%\n"
          ],
          "name": "stdout"
        },
        {
          "output_type": "display_data",
          "data": {
            "image/png": "[encoded data removed]",
            "text/plain": [
              "<Figure size 720x360 with 1 Axes>"
            ]
          },
          "metadata": {
            "tags": []
          }
        }
      ]
    },
    {
      "metadata": {
        "colab_type": "text",
        "id": "hw8TtEKq6oUF"
      },
      "cell_type": "markdown",
      "source": [
        "## (4). RNN with 4 LSTM layers"
      ]
    },
    {
      "metadata": {
        "colab_type": "code",
        "id": "nzfjgSzT6urM",
        "outputId": "ed27f2bb-b478-41c0-dea4-40d28e3f3f8d",
        "colab": {
          "base_uri": "https://localhost:8080/",
          "height": 646
        }
      },
      "cell_type": "code",
      "source": [
        "# create the model\n",
        "embedding_vecor_length = 64\n",
        "\n",
        "# Initialising the model\n",
        "model_4 = Sequential()\n",
        "\n",
        "# Adding embedding\n",
        "model_4.add(Embedding(len(vocabulary), embedding_vecor_length, input_length=max_review_length))\n",
        "\n",
        "# Adding first LSTM layer\n",
        "model_4.add(LSTM(120,return_sequences=True, dropout=0.6, recurrent_dropout=0.6))\n",
        "\n",
        "# Adding second LSTM layer\n",
        "model_4.add(LSTM(100,return_sequences=True, dropout=0.5, recurrent_dropout=0.5))\n",
        "\n",
        "# Adding third LSTM layer\n",
        "model_4.add(LSTM(80,return_sequences=True, dropout=0.4, recurrent_dropout=0.4))\n",
        "\n",
        "# Adding fourth LSTM layer\n",
        "model_4.add(LSTM(60, dropout=0.3, recurrent_dropout=0.3))\n",
        "\n",
        "# Adding output layer\n",
        "model_4.add(Dense(1, activation='sigmoid'))\n",
        "\n",
        "# Printing the model summary\n",
        "print(model_4.summary())\n",
        "\n",
        "# Compiling the model\n",
        "model_4.compile(loss='binary_crossentropy', optimizer='adam', metrics=['accuracy'])\n",
        "\n",
        "# Fitting the data to the model\n",
        "history_4 = model_4.fit(X_train, Y_train, nb_epoch=8, batch_size=2048 ,verbose=1,validation_data=(X_test, Y_test))"
      ],
      "execution_count": 0,
      "outputs": [
        {
          "output_type": "stream",
          "text": [
            "_________________________________________________________________\n",
            "Layer (type)                 Output Shape              Param #   \n",
            "=================================================================\n",
            "embedding_4 (Embedding)      (None, 100, 64)           4583104   \n",
            "_________________________________________________________________\n",
            "lstm_7 (LSTM)                (None, 100, 120)          88800     \n",
            "_________________________________________________________________\n",
            "lstm_8 (LSTM)                (None, 100, 100)          88400     \n",
            "_________________________________________________________________\n",
            "lstm_9 (LSTM)                (None, 100, 80)           57920     \n",
            "_________________________________________________________________\n",
            "lstm_10 (LSTM)               (None, 60)                33840     \n",
            "_________________________________________________________________\n",
            "dense_4 (Dense)              (None, 1)                 61        \n",
            "=================================================================\n",
            "Total params: 4,852,125\n",
            "Trainable params: 4,852,125\n",
            "Non-trainable params: 0\n",
            "_________________________________________________________________\n",
            "None\n",
            "Train on 182068 samples, validate on 182068 samples\n",
            "Epoch 1/8\n",
            "182068/182068 [==============================] - 87s 480us/step - loss: 0.3853 - acc: 0.8572 - val_loss: 0.2536 - val_acc: 0.8991\n",
            "Epoch 2/8\n",
            "182068/182068 [==============================] - 84s 459us/step - loss: 0.2293 - acc: 0.9101 - val_loss: 0.2128 - val_acc: 0.9162\n",
            "Epoch 3/8\n",
            "182068/182068 [==============================] - 83s 455us/step - loss: 0.2016 - acc: 0.9223 - val_loss: 0.2048 - val_acc: 0.9198\n",
            "Epoch 4/8\n",
            "182068/182068 [==============================] - 83s 455us/step - loss: 0.1876 - acc: 0.9275 - val_loss: 0.2046 - val_acc: 0.9214\n",
            "Epoch 5/8\n",
            "182068/182068 [==============================] - 83s 457us/step - loss: 0.1776 - acc: 0.9317 - val_loss: 0.2003 - val_acc: 0.9210\n",
            "Epoch 6/8\n",
            "182068/182068 [==============================] - 84s 461us/step - loss: 0.1717 - acc: 0.9345 - val_loss: 0.2057 - val_acc: 0.9221\n",
            "Epoch 7/8\n",
            "182068/182068 [==============================] - 83s 455us/step - loss: 0.1651 - acc: 0.9374 - val_loss: 0.2025 - val_acc: 0.9224\n",
            "Epoch 8/8\n",
            "182068/182068 [==============================] - 82s 451us/step - loss: 0.1613 - acc: 0.9390 - val_loss: 0.2004 - val_acc: 0.9221\n"
          ],
          "name": "stdout"
        }
      ]
    },
    {
      "metadata": {
        "colab_type": "code",
        "id": "nvos4p3R7whc",
        "outputId": "548d9c63-274c-4378-fe4a-1f4c60411b2b",
        "colab": {
          "base_uri": "https://localhost:8080/",
          "height": 380
        }
      },
      "cell_type": "code",
      "source": [
        "# Final evaluation of the model\n",
        "scores = model_4.evaluate(X_test, Y_test, verbose=0)\n",
        "print(\"Accuracy: %.2f%%\" % (scores[1]*100))\n",
        "\n",
        "# Test and train accuracy of the model\n",
        "model_4_test = scores[1]\n",
        "model_4_train = max(history_4.history['acc'])\n",
        "\n",
        "# Plotting Train and Test Loss VS no. of epochs\n",
        "# list of epoch numbers\n",
        "x = list(range(1,9))\n",
        "\n",
        "# Validation loss\n",
        "vy = history_4.history['val_loss']\n",
        "# Training loss\n",
        "ty = history_4.history['loss']\n",
        "\n",
        "# Calling the function to draw the plot\n",
        "plt_dynamic(x, vy, ty)"
      ],
      "execution_count": 0,
      "outputs": [
        {
          "output_type": "stream",
          "text": [
            "Accuracy: 92.21%\n"
          ],
          "name": "stdout"
        },
        {
          "output_type": "display_data",
          "data": {
            "image/png": "[encoded data removed]",
            "text/plain": [
              "<Figure size 720x360 with 1 Axes>"
            ]
          },
          "metadata": {
            "tags": []
          }
        }
      ]
    },
    {
      "metadata": {
        "id": "xcVP3a0seApc",
        "colab_type": "code",
        "outputId": "9bdffa4d-f221-465d-f370-71f7240a4803",
        "colab": {
          "base_uri": "https://localhost:8080/",
          "height": 921
        }
      },
      "cell_type": "code",
      "source": [
        "# create the model\n",
        "embedding_vecor_length = 64\n",
        "\n",
        "# Initialising the model\n",
        "model_5 = Sequential()\n",
        "\n",
        "# Adding embedding\n",
        "model_5.add(Embedding(len(vocabulary), embedding_vecor_length, input_length=max_review_length))\n",
        "\n",
        "# Adding first LSTM layer\n",
        "model_5.add(LSTM(120,return_sequences=True, dropout=0.6, recurrent_dropout=0.6))\n",
        "\n",
        "# Adding second LSTM layer\n",
        "model_5.add(LSTM(100,return_sequences=True, dropout=0.5, recurrent_dropout=0.5))\n",
        "\n",
        "# Adding third LSTM layer\n",
        "model_5.add(LSTM(80,return_sequences=True, dropout=0.4, recurrent_dropout=0.4))\n",
        "\n",
        "# Adding third LSTM layer\n",
        "model_5.add(LSTM(60,return_sequences=True, dropout=0.3, recurrent_dropout=0.3))\n",
        "\n",
        "# Adding fourth LSTM layer\n",
        "model_5.add(LSTM(40, dropout=0.2, recurrent_dropout=0.2))\n",
        "\n",
        "# Adding output layer\n",
        "model_5.add(Dense(1, activation='sigmoid'))\n",
        "\n",
        "# Printing the model summary\n",
        "print(model_5.summary())\n",
        "\n",
        "# Compiling the model\n",
        "model_5.compile(loss='binary_crossentropy', optimizer='adam', metrics=['accuracy'])\n",
        "\n",
        "# Fitting the data to the model\n",
        "history_5 = model_5.fit(X_train, Y_train, nb_epoch=10, batch_size=2048 ,verbose=1,validation_data=(X_test, Y_test))"
      ],
      "execution_count": 22,
      "outputs": [
        {
          "output_type": "stream",
          "text": [
            "WARNING:tensorflow:From /usr/local/lib/python3.6/dist-packages/tensorflow/python/framework/op_def_library.py:263: colocate_with (from tensorflow.python.framework.ops) is deprecated and will be removed in a future version.\n",
            "Instructions for updating:\n",
            "Colocations handled automatically by placer.\n",
            "WARNING:tensorflow:From /usr/local/lib/python3.6/dist-packages/keras/backend/tensorflow_backend.py:3445: calling dropout (from tensorflow.python.ops.nn_ops) with keep_prob is deprecated and will be removed in a future version.\n",
            "Instructions for updating:\n",
            "Please use `rate` instead of `keep_prob`. Rate should be set to `rate = 1 - keep_prob`.\n",
            "_________________________________________________________________\n",
            "Layer (type)                 Output Shape              Param #   \n",
            "=================================================================\n",
            "embedding_1 (Embedding)      (None, 100, 64)           4583104   \n",
            "_________________________________________________________________\n",
            "lstm_1 (LSTM)                (None, 100, 120)          88800     \n",
            "_________________________________________________________________\n",
            "lstm_2 (LSTM)                (None, 100, 100)          88400     \n",
            "_________________________________________________________________\n",
            "lstm_3 (LSTM)                (None, 100, 80)           57920     \n",
            "_________________________________________________________________\n",
            "lstm_4 (LSTM)                (None, 100, 60)           33840     \n",
            "_________________________________________________________________\n",
            "lstm_5 (LSTM)                (None, 40)                16160     \n",
            "_________________________________________________________________\n",
            "dense_1 (Dense)              (None, 1)                 41        \n",
            "=================================================================\n",
            "Total params: 4,868,265\n",
            "Trainable params: 4,868,265\n",
            "Non-trainable params: 0\n",
            "_________________________________________________________________\n",
            "None\n",
            "WARNING:tensorflow:From /usr/local/lib/python3.6/dist-packages/tensorflow/python/ops/math_ops.py:3066: to_int32 (from tensorflow.python.ops.math_ops) is deprecated and will be removed in a future version.\n",
            "Instructions for updating:\n",
            "Use tf.cast instead.\n",
            "Train on 182068 samples, validate on 182068 samples\n",
            "Epoch 1/10\n",
            "182068/182068 [==============================] - 118s 649us/step - loss: 0.4512 - acc: 0.8402 - val_loss: 0.4355 - val_acc: 0.8425\n",
            "Epoch 2/10\n",
            "182068/182068 [==============================] - 110s 605us/step - loss: 0.4336 - acc: 0.8438 - val_loss: 0.4358 - val_acc: 0.8425\n",
            "Epoch 3/10\n",
            "182068/182068 [==============================] - 111s 608us/step - loss: 0.4335 - acc: 0.8438 - val_loss: 0.4356 - val_acc: 0.8425\n",
            "Epoch 4/10\n",
            "182068/182068 [==============================] - 111s 607us/step - loss: 0.4335 - acc: 0.8438 - val_loss: 0.4354 - val_acc: 0.8425\n",
            "Epoch 5/10\n",
            "182068/182068 [==============================] - 108s 594us/step - loss: 0.4336 - acc: 0.8438 - val_loss: 0.4358 - val_acc: 0.8425\n",
            "Epoch 6/10\n",
            "182068/182068 [==============================] - 110s 606us/step - loss: 0.4335 - acc: 0.8438 - val_loss: 0.4354 - val_acc: 0.8425\n",
            "Epoch 7/10\n",
            "182068/182068 [==============================] - 108s 595us/step - loss: 0.4335 - acc: 0.8438 - val_loss: 0.4355 - val_acc: 0.8425\n",
            "Epoch 8/10\n",
            "182068/182068 [==============================] - 107s 589us/step - loss: 0.4334 - acc: 0.8438 - val_loss: 0.4355 - val_acc: 0.8425\n",
            "Epoch 9/10\n",
            "182068/182068 [==============================] - 109s 600us/step - loss: 0.4334 - acc: 0.8438 - val_loss: 0.4355 - val_acc: 0.8425\n",
            "Epoch 10/10\n",
            "182068/182068 [==============================] - 108s 592us/step - loss: 0.4334 - acc: 0.8438 - val_loss: 0.4356 - val_acc: 0.8425\n"
          ],
          "name": "stdout"
        }
      ]
    },
    {
      "metadata": {
        "id": "Mhtv1ib5faMp",
        "colab_type": "code",
        "outputId": "7af4f457-b771-44e0-87fa-ef8f6219dd29",
        "colab": {
          "base_uri": "https://localhost:8080/",
          "height": 382
        }
      },
      "cell_type": "code",
      "source": [
        "# Final evaluation of the model\n",
        "scores = model_5.evaluate(X_test, Y_test, verbose=0)\n",
        "print(\"Accuracy: %.2f%%\" % (scores[1]*100))\n",
        "\n",
        "# Test and train accuracy of the model\n",
        "model_5_test = scores[1]\n",
        "model_5_train = max(history_5.history['acc'])\n",
        "\n",
        "# Plotting Train and Test Loss VS no. of epochs\n",
        "# list of epoch numbers\n",
        "x = list(range(1,11))\n",
        "\n",
        "# Validation loss\n",
        "vy = history_5.history['val_loss']\n",
        "# Training loss\n",
        "ty = history_5.history['loss']\n",
        "\n",
        "# Calling the function to draw the plot\n",
        "plt_dynamic(x, vy, ty)"
      ],
      "execution_count": 23,
      "outputs": [
        {
          "output_type": "stream",
          "text": [
            "Accuracy: 84.25%\n"
          ],
          "name": "stdout"
        },
        {
          "output_type": "display_data",
          "data": {
            "image/png": "[encoded data removed]",
            "text/plain": [
              "<Figure size 720x360 with 1 Axes>"
            ]
          },
          "metadata": {
            "tags": []
          }
        }
      ]
    },
    {
      "metadata": {
        "id": "wWgWy8VTl2wY",
        "colab_type": "code",
        "colab": {
          "base_uri": "https://localhost:8080/",
          "height": 816
        },
        "outputId": "552af2aa-cb4a-4991-8707-80181409ddb8"
      },
      "cell_type": "code",
      "source": [
        "from keras.layers.normalization import BatchNormalization\n",
        "\n",
        "\n",
        "# create the model\n",
        "embedding_vecor_length = 64\n",
        "\n",
        "# Initialising the model\n",
        "model_6 = Sequential()\n",
        "\n",
        "# Adding embedding\n",
        "model_6.add(Embedding(len(vocabulary), embedding_vecor_length, input_length=max_review_length))\n",
        "\n",
        "# Adding first LSTM layer\n",
        "model_6.add(LSTM(150,return_sequences=True, dropout=0.5, recurrent_dropout=0.5))\n",
        "\n",
        "# Adding second LSTM layer\n",
        "model_6.add(LSTM(120,return_sequences=True, dropout=0.5, recurrent_dropout=0.5))\n",
        "\n",
        "# Adding third LSTM layer\n",
        "model_6.add(LSTM(100,return_sequences=True, dropout=0.5, recurrent_dropout=0.5))\n",
        "\n",
        "# Adding Batch normalisation\n",
        "model_6.add(BatchNormalization())\n",
        "\n",
        "# Adding forth LSTM layer\n",
        "model_6.add(LSTM(80,return_sequences=True, dropout=0.5, recurrent_dropout=0.5))\n",
        "\n",
        "# Adding fifth LSTM layer\n",
        "model_6.add(LSTM(60,return_sequences=True, dropout=0.5, recurrent_dropout=0.5))\n",
        "\n",
        "# Adding sixth LSTM layer\n",
        "model_6.add(LSTM(40, dropout=0.5, recurrent_dropout=0.5))\n",
        "\n",
        "# Adding output layer\n",
        "model_6.add(Dense(1, activation='sigmoid'))\n",
        "\n",
        "# Printing the model summary\n",
        "print(model_6.summary())\n",
        "\n",
        "# Compiling the model\n",
        "model_6.compile(loss='binary_crossentropy', optimizer='adam', metrics=['accuracy'])\n",
        "\n",
        "# Fitting the data to the model\n",
        "history_6 = model_6.fit(X_train, Y_train, nb_epoch=10, batch_size=2048 ,verbose=1,validation_data=(X_test, Y_test))"
      ],
      "execution_count": 25,
      "outputs": [
        {
          "output_type": "stream",
          "text": [
            "_________________________________________________________________\n",
            "Layer (type)                 Output Shape              Param #   \n",
            "=================================================================\n",
            "embedding_3 (Embedding)      (None, 100, 64)           4583104   \n",
            "_________________________________________________________________\n",
            "lstm_9 (LSTM)                (None, 100, 150)          129000    \n",
            "_________________________________________________________________\n",
            "lstm_10 (LSTM)               (None, 100, 120)          130080    \n",
            "_________________________________________________________________\n",
            "lstm_11 (LSTM)               (None, 100, 100)          88400     \n",
            "_________________________________________________________________\n",
            "batch_normalization_1 (Batch (None, 100, 100)          400       \n",
            "_________________________________________________________________\n",
            "lstm_12 (LSTM)               (None, 100, 80)           57920     \n",
            "_________________________________________________________________\n",
            "lstm_13 (LSTM)               (None, 100, 60)           33840     \n",
            "_________________________________________________________________\n",
            "lstm_14 (LSTM)               (None, 40)                16160     \n",
            "_________________________________________________________________\n",
            "dense_2 (Dense)              (None, 1)                 41        \n",
            "=================================================================\n",
            "Total params: 5,038,945\n",
            "Trainable params: 5,038,745\n",
            "Non-trainable params: 200\n",
            "_________________________________________________________________\n",
            "None\n",
            "Train on 182068 samples, validate on 182068 samples\n",
            "Epoch 1/10\n",
            "182068/182068 [==============================] - 149s 819us/step - loss: 0.4003 - acc: 0.8372 - val_loss: 0.2676 - val_acc: 0.8970\n",
            "Epoch 2/10\n",
            "182068/182068 [==============================] - 141s 775us/step - loss: 0.2503 - acc: 0.9011 - val_loss: 0.2273 - val_acc: 0.9123\n",
            "Epoch 3/10\n",
            "182068/182068 [==============================] - 143s 787us/step - loss: 0.2159 - acc: 0.9167 - val_loss: 0.2233 - val_acc: 0.9170\n",
            "Epoch 4/10\n",
            "182068/182068 [==============================] - 142s 782us/step - loss: 0.1950 - acc: 0.9244 - val_loss: 0.2034 - val_acc: 0.9191\n",
            "Epoch 5/10\n",
            "182068/182068 [==============================] - 144s 791us/step - loss: 0.1811 - acc: 0.9300 - val_loss: 0.2078 - val_acc: 0.9219\n",
            "Epoch 6/10\n",
            "182068/182068 [==============================] - 142s 782us/step - loss: 0.1713 - acc: 0.9342 - val_loss: 0.2093 - val_acc: 0.9221\n",
            "Epoch 7/10\n",
            "182068/182068 [==============================] - 144s 789us/step - loss: 0.1637 - acc: 0.9380 - val_loss: 0.2092 - val_acc: 0.9225\n",
            "Epoch 8/10\n",
            "182068/182068 [==============================] - 142s 778us/step - loss: 0.1570 - acc: 0.9403 - val_loss: 0.2077 - val_acc: 0.9226\n",
            "Epoch 9/10\n",
            "182068/182068 [==============================] - 142s 782us/step - loss: 0.1509 - acc: 0.9431 - val_loss: 0.2189 - val_acc: 0.9222\n",
            "Epoch 10/10\n",
            "182068/182068 [==============================] - 140s 768us/step - loss: 0.1467 - acc: 0.9447 - val_loss: 0.2128 - val_acc: 0.9215\n"
          ],
          "name": "stdout"
        }
      ]
    },
    {
      "metadata": {
        "id": "AEeLRJTRm5c1",
        "colab_type": "code",
        "outputId": "ff67c8f6-1e7a-4ca4-e0c5-68f450aa6967",
        "colab": {
          "base_uri": "https://localhost:8080/",
          "height": 382
        }
      },
      "cell_type": "code",
      "source": [
        "# Final evaluation of the model\n",
        "scores = model_6.evaluate(X_test, Y_test, verbose=0)\n",
        "print(\"Accuracy: %.2f%%\" % (scores[1]*100))\n",
        "\n",
        "# Test and train accuracy of the model\n",
        "model_6_test = scores[1]\n",
        "model_6_train = max(history_6.history['acc'])\n",
        "\n",
        "# Plotting Train and Test Loss VS no. of epochs\n",
        "# list of epoch numbers\n",
        "x = list(range(1,11))\n",
        "\n",
        "# Validation loss\n",
        "vy = history_6.history['val_loss']\n",
        "# Training loss\n",
        "ty = history_6.history['loss']\n",
        "\n",
        "# Calling the function to draw the plot\n",
        "plt_dynamic(x, vy, ty)"
      ],
      "execution_count": 27,
      "outputs": [
        {
          "output_type": "stream",
          "text": [
            "Accuracy: 92.15%\n"
          ],
          "name": "stdout"
        },
        {
          "output_type": "display_data",
          "data": {
            "image/png": "[encoded data removed]",
            "text/plain": [
              "<Figure size 720x360 with 1 Axes>"
            ]
          },
          "metadata": {
            "tags": []
          }
        }
      ]
    },
    {
      "metadata": {
        "colab_type": "text",
        "id": "9eeSs_TD2JYa"
      },
      "cell_type": "markdown",
      "source": [
        "## CONCLUSION"
      ]
    },
    {
      "metadata": {
        "colab_type": "text",
        "id": "bYyr5mGh2OSR"
      },
      "cell_type": "markdown",
      "source": [
        "## (a). Procedure Followed :"
      ]
    },
    {
      "metadata": {
        "colab_type": "text",
        "id": "PZ7g0tsY4ehC"
      },
      "cell_type": "markdown",
      "source": [
        "## (b) Table (Different models with their train and test accuracy):"
      ]
    },
    {
      "metadata": {
        "colab_type": "text",
        "id": "SIlit0Ai2Uih"
      },
      "cell_type": "markdown",
      "source": [
        "\n",
        "1.   Upload Amazon Fine Food Reviews dataset on google drive to run it on GOOGLE colab.\n",
        "\n",
        "2.   Load Amazon Fine Food Reviews dataset from google drive.\n",
        "\n",
        "3.   Perform text pre-processing on text data.\n",
        "\n",
        "4.   Perform following 3 tasks to convert it into IMDB data format.\n",
        "         a.  Sort the dataset on the basis of time and after that find vocabulary for all the reviews in the dataset\n",
        "         b.  Now compute frequencies for each word of vocabulary.\n",
        "         c.  Index each word in the decreasing order of frequencies (Word with max frequency will have rank 1    or index 1).\n",
        "         \n",
        "5.  Convert the dataset into imdb dataset format.\n",
        "\n",
        "6.  Split whole dataset into 50-50 for training_data and test_data randomly.\n",
        "\n",
        "7.  Now pad or truncate each review intpo sequences of length 100.\n",
        "\n",
        "8.  Now implement RNN with 1 , 2 ,3,4,5 and 6 LSTM layers and 6th with batch normalisation.\n",
        "\n",
        "9. Find accuracy for each above model.\n",
        "\n",
        "10. Draw Binary Crossentropy Loss VS No.of Epochs plot. \n",
        "\n"
      ]
    },
    {
      "metadata": {
        "id": "xHWnAvS8xVxM",
        "colab_type": "text"
      },
      "cell_type": "markdown",
      "source": [
        "***PRETTY TABLE TO  COMPAIR THE MODELS***\n",
        "\n",
        "---\n",
        "\n"
      ]
    },
    {
      "metadata": {
        "colab_type": "code",
        "id": "JunMOjeB4oP_",
        "outputId": "1866f586-a4df-4969-a771-fb472977ff19",
        "colab": {
          "base_uri": "https://localhost:8080/",
          "height": 204
        }
      },
      "cell_type": "code",
      "source": [
        "# Installing the library prettytable\n",
        "!pip install prettytable\n",
        "\n",
        "# Creating table using PrettyTable library\n",
        "from prettytable import PrettyTable\n",
        "\n",
        "# Names of models\n",
        "names = ['RNN With 1 LSTM Layer','RNN With 2 LSTM Layers','RNN With 3 LSTM Layers','RNN With 4 LSTM Layers','RNN With 5 LSTM Layers','RNN With 6 LSTM Layers']\n",
        "\n",
        "# Training accuracies\n",
        "train_acc = [0.9604,0.9515,0.9414,0.9389,.8438,0.9447]\n",
        "\n",
        "# Test accuracies\n",
        "test_acc = [0.9166,0.9206,0.9211,0.9389,.8438,.9215]\n",
        "\n",
        "numbering = [1,2,3,4,5,6]\n",
        "\n",
        "# Initializing prettytable\n",
        "ptable = PrettyTable()\n",
        "\n",
        "# Adding columns\n",
        "ptable.add_column(\"S.NO.\",numbering)\n",
        "ptable.add_column(\"MODEL\",names)\n",
        "ptable.add_column(\"Training Accuracy\",train_acc)\n",
        "ptable.add_column(\"Test Accuracy\",test_acc)\n",
        "\n",
        "# Printing the Table\n",
        "print(ptable)"
      ],
      "execution_count": 35,
      "outputs": [
        {
          "output_type": "stream",
          "text": [
            "Requirement already satisfied: prettytable in /usr/local/lib/python3.6/dist-packages (0.7.2)\n",
            "+-------+------------------------+-------------------+---------------+\n",
            "| S.NO. |         MODEL          | Training Accuracy | Test Accuracy |\n",
            "+-------+------------------------+-------------------+---------------+\n",
            "|   1   | RNN With 1 LSTM Layer  |       0.9604      |     0.9166    |\n",
            "|   2   | RNN With 2 LSTM Layers |       0.9515      |     0.9206    |\n",
            "|   3   | RNN With 3 LSTM Layers |       0.9414      |     0.9211    |\n",
            "|   4   | RNN With 4 LSTM Layers |       0.9389      |     0.9389    |\n",
            "|   5   | RNN With 5 LSTM Layers |       0.8438      |     0.8438    |\n",
            "|   6   | RNN With 6 LSTM Layers |       0.9447      |     0.9215    |\n",
            "+-------+------------------------+-------------------+---------------+\n"
          ],
          "name": "stdout"
        }
      ]
    },
    {
      "metadata": {
        "id": "20P0II-oyFcZ",
        "colab_type": "text"
      },
      "cell_type": "markdown",
      "source": [
        "**OBSERVATION:**\n",
        "\n",
        "1. HERE WE OBSERVED THAT HOW OUR DIFFERENT LOW LAYER MODELS WORK WELL WITH SUCH A HIGH ACCURACY WITH LOW DATA.\n",
        "2. WE CAN INCREASE OR ACCURACY WITH DEEP LAYER NEURAL NETWORK AS NO. OF LAYERS INCREASES WITH DATA.\n",
        "3.IN OUR 5TH MODEL IF WE OBSERVE IT HAS LOW ACCURACY AS NO. OF LAYERS MORE THEN ABOVE 4 ,IT SHOWS THAT DEEP N.N REQUIRE MORE DATA FOR GOOD PERFORMANCE .\n",
        "4.IN 6TH MODEL AS WE INCLUDE BATCH NORMALISATION WITH MORE NO OF LAYERS OUR ACCURACY INCREASES IT SHOWS BATCH NORMALIZATION IS IMPORTANT AFTER EVERY FEW LAYES IF WE HAVE HIGH DEEP N.N.\n",
        "\n",
        "\n",
        "**NOTE**\n",
        "\n",
        "WHEN APPLYING D.N.N IN COLAB PLEASE TAKE CARE IT WILL NOT ABLE TO OPERATE FOR MORE THEN 5-6 LAYERS WITH LARGE DATA AND CONNECTIONS."
      ]
    }
  ]
}